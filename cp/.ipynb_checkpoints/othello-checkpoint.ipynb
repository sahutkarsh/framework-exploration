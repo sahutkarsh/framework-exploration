{
 "cells": [
  {
   "cell_type": "code",
   "execution_count": 3,
   "metadata": {},
   "outputs": [],
   "source": [
    "def othello_dumb(moves):\n",
    "    state = ['b', 'w']\n",
    "    print ('  ', state)\n",
    "    for idx, move in enumerate(moves):\n",
    "        color = ['b'] if ((idx+1) % 2 == 1) else ['w']\n",
    "        state = (color + state) if (move == 'L') else (state + color)\n",
    "        n = len(state)\n",
    "        if (move == 'L'):\n",
    "            start = 1\n",
    "            while (state[start] != color[0]):\n",
    "                start += 1\n",
    "                if (start == n):\n",
    "                    break\n",
    "            if (start != n):\n",
    "                for i in range(1, start):\n",
    "                    state[i] = 'b' if (state[i] == 'w') else 'w'\n",
    "        else:\n",
    "            end = n - 2\n",
    "            while (state[end] != color[0]):\n",
    "                end -= 1\n",
    "                if (end == -1):\n",
    "                    break\n",
    "            if (end != -1):\n",
    "                for i in range(end+1, n-1):\n",
    "                    state[i] = 'b' if (state[i] == 'w') else 'w'\n",
    "        print(move+color[0], state)\n",
    "    return [state.count('b'), state.count('w')]"
   ]
  },
  {
   "cell_type": "code",
   "execution_count": 96,
   "metadata": {},
   "outputs": [],
   "source": [
    "def construct_state(state):\n",
    "    start, end, flip, length = state\n",
    "    state = ''\n",
    "    index = 0\n",
    "    while (index != flip):\n",
    "        state += start\n",
    "        index += 1\n",
    "    while (index != length):\n",
    "        state += end\n",
    "        index += 1\n",
    "    return state"
   ]
  },
  {
   "cell_type": "code",
   "execution_count": 97,
   "metadata": {},
   "outputs": [],
   "source": [
    "def get_next_state(start, end, flip, action, index):\n",
    "    color = 'b' if (index % 2 == 0) else 'w';\n",
    "    length = index + 3\n",
    "    if (action == 'L'):\n",
    "        if (end == color):\n",
    "            flip = length\n",
    "        else:\n",
    "            if (flip != length-1):\n",
    "                flip += 1\n",
    "            else:\n",
    "                flip = 1\n",
    "        start = color\n",
    "    else:\n",
    "        if (start == color):\n",
    "            flip = length\n",
    "        end = color\n",
    "    return [start, end, flip, length]"
   ]
  },
  {
   "cell_type": "code",
   "execution_count": 98,
   "metadata": {},
   "outputs": [],
   "source": [
    "def othello(moves):\n",
    "    print('bw')\n",
    "    state = ['b', 'w', 1, 2]\n",
    "    for index, move in enumerate(moves):\n",
    "        state = get_next_state(state[0], state[1], state[2], move, index)\n",
    "        print(construct_state(state))\n",
    "    count = {'b': 0, 'w': 0}\n",
    "    count[state[0]] += state[2]\n",
    "    count[state[1]] += state[3] - state[2]\n",
    "    return [count['b'], count['w']]"
   ]
  },
  {
   "cell_type": "code",
   "execution_count": 99,
   "metadata": {},
   "outputs": [
    {
     "name": "stdout",
     "output_type": "stream",
     "text": [
      "   ['b', 'w']\n",
      "Rb ['b', 'b', 'b']\n",
      "Rw ['b', 'b', 'b', 'w']\n",
      "Lb ['b', 'b', 'b', 'b', 'w']\n",
      "Lw ['w', 'w', 'w', 'w', 'w', 'w']\n",
      "Rb ['w', 'w', 'w', 'w', 'w', 'w', 'b']\n",
      "Lw ['w', 'w', 'w', 'w', 'w', 'w', 'w', 'b']\n",
      "Rb ['w', 'w', 'w', 'w', 'w', 'w', 'w', 'b', 'b']\n",
      "Lw ['w', 'w', 'w', 'w', 'w', 'w', 'w', 'w', 'b', 'b']\n",
      "Rb ['w', 'w', 'w', 'w', 'w', 'w', 'w', 'w', 'b', 'b', 'b']\n",
      "Lw ['w', 'w', 'w', 'w', 'w', 'w', 'w', 'w', 'w', 'b', 'b', 'b']\n",
      "Lb ['b', 'b', 'b', 'b', 'b', 'b', 'b', 'b', 'b', 'b', 'b', 'b', 'b']\n",
      "Rw ['b', 'b', 'b', 'b', 'b', 'b', 'b', 'b', 'b', 'b', 'b', 'b', 'b', 'w']\n",
      "Rb ['b', 'b', 'b', 'b', 'b', 'b', 'b', 'b', 'b', 'b', 'b', 'b', 'b', 'b', 'b']\n",
      "Lw ['w', 'b', 'b', 'b', 'b', 'b', 'b', 'b', 'b', 'b', 'b', 'b', 'b', 'b', 'b', 'b']\n",
      "Lb ['b', 'b', 'b', 'b', 'b', 'b', 'b', 'b', 'b', 'b', 'b', 'b', 'b', 'b', 'b', 'b', 'b']\n",
      "Rw ['b', 'b', 'b', 'b', 'b', 'b', 'b', 'b', 'b', 'b', 'b', 'b', 'b', 'b', 'b', 'b', 'b', 'w']\n",
      "Lb ['b', 'b', 'b', 'b', 'b', 'b', 'b', 'b', 'b', 'b', 'b', 'b', 'b', 'b', 'b', 'b', 'b', 'b', 'w']\n",
      "Rw ['b', 'b', 'b', 'b', 'b', 'b', 'b', 'b', 'b', 'b', 'b', 'b', 'b', 'b', 'b', 'b', 'b', 'b', 'w', 'w']\n",
      "Rb ['b', 'b', 'b', 'b', 'b', 'b', 'b', 'b', 'b', 'b', 'b', 'b', 'b', 'b', 'b', 'b', 'b', 'b', 'b', 'b', 'b']\n",
      "Rw ['b', 'b', 'b', 'b', 'b', 'b', 'b', 'b', 'b', 'b', 'b', 'b', 'b', 'b', 'b', 'b', 'b', 'b', 'b', 'b', 'b', 'w']\n"
     ]
    },
    {
     "data": {
      "text/plain": [
       "[21, 1]"
      ]
     },
     "execution_count": 99,
     "metadata": {},
     "output_type": "execute_result"
    }
   ],
   "source": [
    "moves = 'RRLLRLRLRLLRRLLRLRRR'\n",
    "othello_dumb(moves)"
   ]
  },
  {
   "cell_type": "code",
   "execution_count": 100,
   "metadata": {},
   "outputs": [
    {
     "name": "stdout",
     "output_type": "stream",
     "text": [
      "bw\n",
      "bbb\n",
      "bbbw\n",
      "bbbbw\n",
      "wwwwww\n",
      "wwwwwwb\n",
      "wwwwwwwb\n",
      "wwwwwwwbb\n",
      "wwwwwwwwbb\n",
      "wwwwwwwwbbb\n",
      "wwwwwwwwwbbb\n",
      "bbbbbbbbbbbbb\n",
      "bbbbbbbbbbbbbw\n",
      "bbbbbbbbbbbbbbb\n",
      "wbbbbbbbbbbbbbbb\n",
      "bbbbbbbbbbbbbbbbb\n",
      "bbbbbbbbbbbbbbbbbw\n",
      "bbbbbbbbbbbbbbbbbbw\n",
      "bbbbbbbbbbbbbbbbbbww\n",
      "bbbbbbbbbbbbbbbbbbbbb\n",
      "bbbbbbbbbbbbbbbbbbbbbw\n"
     ]
    },
    {
     "data": {
      "text/plain": [
       "[21, 1]"
      ]
     },
     "execution_count": 100,
     "metadata": {},
     "output_type": "execute_result"
    }
   ],
   "source": [
    "othello(moves)"
   ]
  },
  {
   "cell_type": "code",
   "execution_count": null,
   "metadata": {},
   "outputs": [],
   "source": []
  },
  {
   "cell_type": "code",
   "execution_count": null,
   "metadata": {},
   "outputs": [],
   "source": []
  }
 ],
 "metadata": {
  "kernelspec": {
   "display_name": "Python 3",
   "language": "python",
   "name": "python3"
  },
  "language_info": {
   "codemirror_mode": {
    "name": "ipython",
    "version": 3
   },
   "file_extension": ".py",
   "mimetype": "text/x-python",
   "name": "python",
   "nbconvert_exporter": "python",
   "pygments_lexer": "ipython3",
   "version": "3.7.6"
  }
 },
 "nbformat": 4,
 "nbformat_minor": 4
}
