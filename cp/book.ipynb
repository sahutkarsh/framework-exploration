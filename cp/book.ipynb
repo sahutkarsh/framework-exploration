{
 "cells": [
  {
   "cell_type": "code",
   "execution_count": 42,
   "metadata": {},
   "outputs": [],
   "source": [
    "numUsers = 3\n",
    "userBooksListenedTo = {\n",
    "    'a': ['x', 'y', 'm'],\n",
    "    'b': ['z'],\n",
    "    'c': ['x', 'z']\n",
    "}\n",
    "numGenres = 2\n",
    "bookGenres = {\n",
    "    'g1': ['x'],\n",
    "    'g2': ['y', 'z'],\n",
    "    'g3': ['m', 'n']\n",
    "}"
   ]
  },
  {
   "cell_type": "code",
   "execution_count": 43,
   "metadata": {},
   "outputs": [],
   "source": [
    "def invertBookGenres(bookGenres):\n",
    "    inverted = {}\n",
    "    for genre, bookList in bookGenres.items():\n",
    "        for book in bookList:\n",
    "            inverted[book] = genre\n",
    "    return inverted"
   ]
  },
  {
   "cell_type": "code",
   "execution_count": 44,
   "metadata": {},
   "outputs": [],
   "source": [
    "def favoriteVideoGenre(numUsers, userBooksListenedTo, numGenres, bookGenres):\n",
    "    favGenres = {}\n",
    "    inverted = invertBookGenres(bookGenres)\n",
    "    for user, bookList in userBooksListenedTo.items():\n",
    "        genreCount = {}\n",
    "        favGenres[user] = []\n",
    "        for book in bookList:\n",
    "            if (inverted[book] in genreCount):\n",
    "                genreCount[inverted[book]] += 1\n",
    "            else:\n",
    "                genreCount[inverted[book]] = 1\n",
    "        maxCount = genreCount[max(genreCount, key=genreCount.get)]\n",
    "        for genre, count in genreCount.items():\n",
    "            if (count == maxCount):\n",
    "                favGenres[user].append(genre)\n",
    "    return favGenres"
   ]
  },
  {
   "cell_type": "code",
   "execution_count": 46,
   "metadata": {},
   "outputs": [
    {
     "data": {
      "text/plain": [
       "{'a': ['g1', 'g2', 'g3'], 'b': ['g2'], 'c': ['g1', 'g2']}"
      ]
     },
     "execution_count": 46,
     "metadata": {},
     "output_type": "execute_result"
    }
   ],
   "source": [
    "favoriteVideoGenre(numUsers, userBooksListenedTo, numGenres, bookGenres)"
   ]
  },
  {
   "cell_type": "code",
   "execution_count": null,
   "metadata": {},
   "outputs": [],
   "source": []
  }
 ],
 "metadata": {
  "kernelspec": {
   "display_name": "Python 3",
   "language": "python",
   "name": "python3"
  },
  "language_info": {
   "codemirror_mode": {
    "name": "ipython",
    "version": 3
   },
   "file_extension": ".py",
   "mimetype": "text/x-python",
   "name": "python",
   "nbconvert_exporter": "python",
   "pygments_lexer": "ipython3",
   "version": "3.7.6"
  }
 },
 "nbformat": 4,
 "nbformat_minor": 4
}
