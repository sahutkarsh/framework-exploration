{
 "cells": [
  {
   "cell_type": "code",
   "execution_count": null,
   "metadata": {},
   "outputs": [],
   "source": []
  },
  {
   "cell_type": "code",
   "execution_count": null,
   "metadata": {},
   "outputs": [],
   "source": []
  },
  {
   "cell_type": "code",
   "execution_count": null,
   "metadata": {},
   "outputs": [],
   "source": []
  },
  {
   "cell_type": "code",
   "execution_count": null,
   "metadata": {},
   "outputs": [],
   "source": []
  },
  {
   "cell_type": "code",
   "execution_count": 32,
   "metadata": {},
   "outputs": [],
   "source": [
    "def othello(moves):\n",
    "    state = ['b', 'w']\n",
    "    print ('  ', state)\n",
    "    for idx, move in enumerate(moves):\n",
    "        color = ['b'] if ((idx+1) % 2 == 1) else ['w']\n",
    "        state = (color + state) if (move == 'L') else (state + color)\n",
    "        n = len(state)\n",
    "        if (move == 'L'):\n",
    "            start = 1\n",
    "            while (state[start] != color[0]):\n",
    "                start += 1\n",
    "                if (start == n):\n",
    "                    break\n",
    "            if (start != n):\n",
    "                for i in range(1, start):\n",
    "                    state[i] = 'b' if (state[i] == 'w') else 'w'\n",
    "        else:\n",
    "            end = n - 2\n",
    "            while (state[end] != color[0]):\n",
    "                end -= 1\n",
    "                if (end == -1):\n",
    "                    break\n",
    "            if (end != -1):\n",
    "                for i in range(end+1, n-1):\n",
    "                    state[i] = 'b' if (state[i] == 'w') else 'w'\n",
    "        print(move+color[0], state)\n",
    "    return [state.count('b'), state.count('w')]"
   ]
  },
  {
   "cell_type": "code",
   "execution_count": 29,
   "metadata": {},
   "outputs": [
    {
     "name": "stdout",
     "output_type": "stream",
     "text": [
      "Rb ['b', 'b', 'b']\n",
      "Rw ['b', 'b', 'b', 'w']\n",
      "Lb ['b', 'b', 'b', 'b', 'w']\n",
      "Rw ['b', 'b', 'b', 'b', 'w', 'w']\n",
      "Lb ['b', 'b', 'b', 'b', 'b', 'w', 'w']\n",
      "Rw ['b', 'b', 'b', 'b', 'b', 'w', 'w', 'w']\n",
      "Rb ['b', 'b', 'b', 'b', 'b', 'b', 'b', 'b', 'b']\n",
      "Rw ['b', 'b', 'b', 'b', 'b', 'b', 'b', 'b', 'b', 'w']\n",
      "Lb ['b', 'b', 'b', 'b', 'b', 'b', 'b', 'b', 'b', 'b', 'w']\n",
      "Rw ['b', 'b', 'b', 'b', 'b', 'b', 'b', 'b', 'b', 'b', 'w', 'w']\n",
      "Rb ['b', 'b', 'b', 'b', 'b', 'b', 'b', 'b', 'b', 'b', 'b', 'b', 'b']\n",
      "Lw ['w', 'b', 'b', 'b', 'b', 'b', 'b', 'b', 'b', 'b', 'b', 'b', 'b', 'b']\n",
      "Rb ['w', 'b', 'b', 'b', 'b', 'b', 'b', 'b', 'b', 'b', 'b', 'b', 'b', 'b', 'b']\n",
      "Rw ['w', 'w', 'w', 'w', 'w', 'w', 'w', 'w', 'w', 'w', 'w', 'w', 'w', 'w', 'w', 'w']\n"
     ]
    },
    {
     "data": {
      "text/plain": [
       "[0, 16]"
      ]
     },
     "execution_count": 29,
     "metadata": {},
     "output_type": "execute_result"
    }
   ],
   "source": [
    "moves = 'RRLRLRRRLRRLRR'\n",
    "othello(moves)"
   ]
  },
  {
   "cell_type": "code",
   "execution_count": 13,
   "metadata": {},
   "outputs": [],
   "source": [
    "states = ['bbb', 'www', 'bbw', 'wwb', 'wbb', 'bww']\n",
    "actions = ['Lb', 'Lw', 'Rb', 'Rw']"
   ]
  },
  {
   "cell_type": "code",
   "execution_count": 10,
   "metadata": {},
   "outputs": [],
   "source": [
    "def get_next_state(state, action):\n",
    "    color = action[1]\n",
    "    mid = state[1]\n",
    "    if (action[0] == 'L'):\n",
    "        state = color + state\n",
    "        if (state[-1] == color) mid = color\n",
    "    else:\n",
    "        state = state + color\n",
    "        if (state[0] == color) mid = color\n",
    "    return next_state"
   ]
  },
  {
   "cell_type": "code",
   "execution_count": 15,
   "metadata": {},
   "outputs": [
    {
     "data": {
      "text/plain": [
       "['bbb', 'www', 'bbw', 'wwb', 'wbb', 'bww']"
      ]
     },
     "execution_count": 15,
     "metadata": {},
     "output_type": "execute_result"
    }
   ],
   "source": [
    "states"
   ]
  },
  {
   "cell_type": "code",
   "execution_count": 14,
   "metadata": {},
   "outputs": [
    {
     "data": {
      "text/plain": [
       "['wbbb', 'wwww', 'wbbw', 'wwwb', 'wwbb', 'wbww']"
      ]
     },
     "execution_count": 14,
     "metadata": {},
     "output_type": "execute_result"
    }
   ],
   "source": [
    "[get_next_state(state, 'Lw') for state in states]"
   ]
  },
  {
   "cell_type": "code",
   "execution_count": 16,
   "metadata": {},
   "outputs": [
    {
     "data": {
      "text/plain": [
       "['bbbw', 'wwww', 'bbww', 'wwbw', 'wbbw', 'bwww']"
      ]
     },
     "execution_count": 16,
     "metadata": {},
     "output_type": "execute_result"
    }
   ],
   "source": [
    "[get_next_state(state, 'Rw') for state in states]"
   ]
  },
  {
   "cell_type": "code",
   "execution_count": 35,
   "metadata": {},
   "outputs": [
    {
     "name": "stdout",
     "output_type": "stream",
     "text": [
      "   ['b', 'w']\n",
      "Rb ['b', 'b', 'b']\n",
      "Rw ['b', 'b', 'b', 'w']\n",
      "Lb ['b', 'b', 'b', 'b', 'w']\n",
      "Lw ['w', 'w', 'w', 'w', 'w', 'w']\n"
     ]
    },
    {
     "data": {
      "text/plain": [
       "[0, 6]"
      ]
     },
     "execution_count": 35,
     "metadata": {},
     "output_type": "execute_result"
    }
   ],
   "source": [
    "moves = 'RRLL'\n",
    "othello(moves)"
   ]
  },
  {
   "cell_type": "code",
   "execution_count": 40,
   "metadata": {},
   "outputs": [],
   "source": [
    "def construct_state(state):\n",
    "    start, end, flip, length = state\n",
    "    state = ''\n",
    "    index = 0\n",
    "    while (index != flip):\n",
    "        state += start\n",
    "        index += 1\n",
    "    while (index != length):\n",
    "        state += end\n",
    "        index += 1\n",
    "    return state"
   ]
  },
  {
   "cell_type": "code",
   "execution_count": 37,
   "metadata": {},
   "outputs": [],
   "source": [
    "def get_next_state(start, end, flip, action, index):\n",
    "    color = 'b' if (index % 2 == 0) else 'w';\n",
    "    length = index + 3\n",
    "    if (action == 'L'):\n",
    "        if (end == color):\n",
    "            flip = length\n",
    "        else:\n",
    "            flip += 1\n",
    "        start = color\n",
    "    else:\n",
    "        if (start == color):\n",
    "            flip = length\n",
    "        end = color\n",
    "    return [start, end, flip, length]"
   ]
  },
  {
   "cell_type": "code",
   "execution_count": 41,
   "metadata": {},
   "outputs": [
    {
     "data": {
      "text/plain": [
       "'bbb'"
      ]
     },
     "execution_count": 41,
     "metadata": {},
     "output_type": "execute_result"
    }
   ],
   "source": [
    "construct_state(get_next_state('b', 'w', 1, 'R', 0))"
   ]
  },
  {
   "cell_type": "code",
   "execution_count": 43,
   "metadata": {},
   "outputs": [
    {
     "data": {
      "text/plain": [
       "['b', 'b', 5, 5]"
      ]
     },
     "execution_count": 43,
     "metadata": {},
     "output_type": "execute_result"
    }
   ],
   "source": [
    "get_next_state('b', 'b', 3, 'R', 2)"
   ]
  },
  {
   "cell_type": "code",
   "execution_count": null,
   "metadata": {},
   "outputs": [],
   "source": []
  }
 ],
 "metadata": {
  "kernelspec": {
   "display_name": "Python 3",
   "language": "python",
   "name": "python3"
  },
  "language_info": {
   "codemirror_mode": {
    "name": "ipython",
    "version": 3
   },
   "file_extension": ".py",
   "mimetype": "text/x-python",
   "name": "python",
   "nbconvert_exporter": "python",
   "pygments_lexer": "ipython3",
   "version": "3.7.6"
  }
 },
 "nbformat": 4,
 "nbformat_minor": 4
}
