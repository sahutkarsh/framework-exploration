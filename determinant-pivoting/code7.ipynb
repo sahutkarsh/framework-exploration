{
 "cells": [
  {
   "cell_type": "code",
   "execution_count": 1,
   "metadata": {
    "collapsed": true
   },
   "outputs": [],
   "source": [
    "input_file = open('input.txt','r')\n",
    "input_lines = input_file.readlines()\n",
    "input_file.close()\n",
    "lines = []\n",
    "for line in input_lines:\n",
    "    if (line!='\\n'):\n",
    "        line = line.strip()\n",
    "    lines.append(line)\n",
    "num_cases = lines[0]\n",
    "del lines[0]\n",
    "lines.append('\\n')"
   ]
  },
  {
   "cell_type": "code",
   "execution_count": 2,
   "metadata": {
    "collapsed": true
   },
   "outputs": [],
   "source": [
    "test_cases = []\n",
    "case = []"
   ]
  },
  {
   "cell_type": "code",
   "execution_count": 3,
   "metadata": {
    "collapsed": true
   },
   "outputs": [],
   "source": [
    "for line in lines:\n",
    "    if (line!='\\n'):\n",
    "        case.append(line)\n",
    "    if (line=='\\n'):\n",
    "        test_cases.append(case)\n",
    "        case = []"
   ]
  },
  {
   "cell_type": "code",
   "execution_count": 4,
   "metadata": {
    "collapsed": true
   },
   "outputs": [],
   "source": [
    "def parse_case(test_case):\n",
    "    m = int(test_case[0])\n",
    "    A = []\n",
    "    for row_index in range(m):\n",
    "        row = list(map(float, test_case[row_index+1].split()))\n",
    "        A.insert(row_index, row)\n",
    "    B = list(map(float, test_case[m+1].split()))\n",
    "    return [m,A,B]"
   ]
  },
  {
   "cell_type": "code",
   "execution_count": 5,
   "metadata": {
    "collapsed": true
   },
   "outputs": [],
   "source": [
    "def doolittle_algorithm(A):\n",
    "    n = len(A)\n",
    "    lower = [[0] * n for index in range(n)]\n",
    "    upper = [[0] * n for index in range(n)]\n",
    "    \n",
    "    for i in range(n):\n",
    "        for k in range(i,n):\n",
    "            summation = 0\n",
    "            for j in range(i):\n",
    "                summation += lower[i][j] * upper[j][k]\n",
    "            upper[i][k] = A[i][k] - summation\n",
    "        \n",
    "        for k in range(i,n):\n",
    "            if (i == k):\n",
    "                lower[i][i] = 1\n",
    "            else:\n",
    "                summation = 0\n",
    "                for j in range(0,i):\n",
    "                    summation += lower[k][j] * upper[j][i]\n",
    "                lower[k][i] = (A[k][i] - summation) / upper[i][i]\n",
    "    return [lower,upper]"
   ]
  },
  {
   "cell_type": "code",
   "execution_count": 6,
   "metadata": {
    "collapsed": true
   },
   "outputs": [],
   "source": [
    "def LY_B(lower,B):\n",
    "    n = len(lower)\n",
    "    Y = [0 for i in range(n)]\n",
    "    summation = 0\n",
    "    for i in range(n):\n",
    "        summation = 0\n",
    "        for j in range(i):\n",
    "            summation += lower[i][j] * Y[j]\n",
    "        Y[i] = B[i] - summation    \n",
    "    return Y"
   ]
  },
  {
   "cell_type": "code",
   "execution_count": 7,
   "metadata": {
    "collapsed": true
   },
   "outputs": [],
   "source": [
    "def UX_Y(upper,Y):\n",
    "    n = len(upper)\n",
    "    X = [0 for i in range(n)]\n",
    "    summation = 0\n",
    "    for i in range(n):\n",
    "        summation = 0\n",
    "        for j in range(n-i,n):\n",
    "            summation += upper[n-i-1][j] * X[j]\n",
    "        X[n-i-1] = (Y[n-i-1] - summation)/upper[n-i-1][n-i-1]\n",
    "    return X"
   ]
  },
  {
   "cell_type": "code",
   "execution_count": 8,
   "metadata": {
    "collapsed": true
   },
   "outputs": [],
   "source": [
    "def zero_transform(matrix, m, step_index):\n",
    "    step_element = matrix[step_index][step_index]\n",
    "    step_row = matrix[step_index]\n",
    "    for row_index in range(step_index+1, m):\n",
    "        row = matrix[row_index]\n",
    "        factor = row[step_index]/step_element\n",
    "        transformed_row = [item * factor for item in step_row]\n",
    "        matrix[row_index] = [x-y for x,y in zip(row,transformed_row)]\n",
    "        matrix[row_index][step_index] = 0\n",
    "    return matrix"
   ]
  },
  {
   "cell_type": "code",
   "execution_count": 9,
   "metadata": {
    "collapsed": false
   },
   "outputs": [
    {
     "ename": "SyntaxError",
     "evalue": "invalid syntax (<ipython-input-9-f4d9c123252a>, line 6)",
     "output_type": "error",
     "traceback": [
      "\u001b[0;36m  File \u001b[0;32m\"<ipython-input-9-f4d9c123252a>\"\u001b[0;36m, line \u001b[0;32m6\u001b[0m\n\u001b[0;31m    diagnols = []\u001b[0m\n\u001b[0m           ^\u001b[0m\n\u001b[0;31mSyntaxError\u001b[0m\u001b[0;31m:\u001b[0m invalid syntax\n"
     ]
    }
   ],
   "source": [
    "def gaussian_determinant(matrix):\n",
    "    m = len(matrix)\n",
    "    for step_index in range(m-1):\n",
    "        matrix = zero_transform(matrix, m, step_index\n",
    "    \n",
    "    diagnols = []\n",
    "    determinant = 1\n",
    "    for index in range(m):\n",
    "        diagnols.append(matrix[index][index])\n",
    "        determinant *= matrix[index][index]\n",
    "    determinant = int(determinant*(10**2))/(10**2)\n",
    "    return determinant"
   ]
  },
  {
   "cell_type": "code",
   "execution_count": null,
   "metadata": {
    "collapsed": true
   },
   "outputs": [],
   "source": [
    "def singularity_check(A):\n",
    "    matrix = list(A)\n",
    "    determinant = gaussian_determinant(matrix)\n",
    "    if (determinant == 0):\n",
    "        return 0\n",
    "    return 1"
   ]
  },
  {
   "cell_type": "code",
   "execution_count": null,
   "metadata": {
    "collapsed": true
   },
   "outputs": [],
   "source": [
    "def check_zero_diagnol(matrix):\n",
    "    m = len(matrix)\n",
    "    for index in range(m):\n",
    "        item = matrix[index][index]\n",
    "        if (item == 0):\n",
    "            return True\n",
    "    return False"
   ]
  },
  {
   "cell_type": "code",
   "execution_count": null,
   "metadata": {
    "collapsed": true
   },
   "outputs": [],
   "source": [
    "def solve_equations(test_case):\n",
    "    m, A, B = parse_case(test_case)\n",
    "    non_singularity = singularity_check(A)\n",
    "    if (non_singularity == 0 or non_singularity == -1):\n",
    "        return [non_singularity,[],[]]\n",
    "    lower, upper = doolittle_algorithm(A)\n",
    "    zero_diagnol = check_zero_diagnol(upper)\n",
    "    if (zero_diagnol):\n",
    "        return 0\n",
    "    Y = LY_B(lower,B)\n",
    "    X = UX_Y(upper,Y)\n",
    "    return [X, upper, lower]"
   ]
  },
  {
   "cell_type": "code",
   "execution_count": null,
   "metadata": {
    "collapsed": false
   },
   "outputs": [],
   "source": [
    "results = []\n",
    "for test_case in test_cases:\n",
    "    result = solve_equations(test_case)\n",
    "    results.append(result)"
   ]
  },
  {
   "cell_type": "code",
   "execution_count": null,
   "metadata": {
    "collapsed": true
   },
   "outputs": [],
   "source": [
    "def array_to_string(array):\n",
    "    string = ''\n",
    "    for item in array:\n",
    "        string += str(item)+' '\n",
    "    string = string.strip()\n",
    "    return string"
   ]
  },
  {
   "cell_type": "code",
   "execution_count": null,
   "metadata": {
    "collapsed": false
   },
   "outputs": [],
   "source": [
    "output = ''\n",
    "for result in results:\n",
    "    solution, upper, lower = result\n",
    "    if(solution == 0 or solution == -1):\n",
    "        output += str(solution) + '\\n'\n",
    "    else: \n",
    "        output += array_to_string(solution) + '\\n'\n",
    "        for row in upper:\n",
    "            output += array_to_string(row) + '\\n'\n",
    "        for row in lower:\n",
    "            output += array_to_string(row) + '\\n'\n",
    "    output += '\\n'\n",
    "output = output.strip()"
   ]
  },
  {
   "cell_type": "code",
   "execution_count": null,
   "metadata": {
    "collapsed": true
   },
   "outputs": [],
   "source": [
    "output_file = open('output.txt', 'w')\n",
    "output_file.write(output)\n",
    "output_file.close()"
   ]
  }
 ],
 "metadata": {
  "kernelspec": {
   "display_name": "Python 3",
   "language": "python",
   "name": "python3"
  },
  "language_info": {
   "codemirror_mode": {
    "name": "ipython",
    "version": 3
   },
   "file_extension": ".py",
   "mimetype": "text/x-python",
   "name": "python",
   "nbconvert_exporter": "python",
   "pygments_lexer": "ipython3",
   "version": "3.6.0"
  }
 },
 "nbformat": 4,
 "nbformat_minor": 2
}
