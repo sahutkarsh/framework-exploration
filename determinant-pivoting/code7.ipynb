{
 "cells": [
  {
   "cell_type": "code",
   "execution_count": 1,
   "metadata": {
    "collapsed": true
   },
   "outputs": [],
   "source": [
    "input_file = open('input.txt','r')\n",
    "input_lines = input_file.readlines()\n",
    "input_file.close()\n",
    "lines = []\n",
    "for line in input_lines:\n",
    "    if (line!='\\n'):\n",
    "        line = line.strip()\n",
    "    lines.append(line)\n",
    "num_cases = lines[0]\n",
    "del lines[0]\n",
    "lines.append('\\n')"
   ]
  },
  {
   "cell_type": "code",
   "execution_count": 2,
   "metadata": {
    "collapsed": true
   },
   "outputs": [],
   "source": [
    "test_cases = []\n",
    "case = []"
   ]
  },
  {
   "cell_type": "code",
   "execution_count": 3,
   "metadata": {
    "collapsed": true
   },
   "outputs": [],
   "source": [
    "for line in lines:\n",
    "    if (line!='\\n'):\n",
    "        case.append(line)\n",
    "    if (line=='\\n'):\n",
    "        test_cases.append(case)\n",
    "        case = []"
   ]
  },
  {
   "cell_type": "code",
   "execution_count": 4,
   "metadata": {
    "collapsed": true
   },
   "outputs": [],
   "source": [
    "def parse_case(test_case):\n",
    "    m = int(test_case[0])\n",
    "    A = []\n",
    "    for row_index in range(m):\n",
    "        row = list(map(float, test_case[row_index+1].split()))\n",
    "        A.insert(row_index, row)\n",
    "    B = list(map(float, test_case[m+1].split()))\n",
    "    return [m,A,B]"
   ]
  },
  {
   "cell_type": "code",
   "execution_count": 5,
   "metadata": {
    "collapsed": true
   },
   "outputs": [],
   "source": [
    "def doolittle_algorithm(A):\n",
    "    n = len(A)\n",
    "    lower = [[0] * n for index in range(n)]\n",
    "    upper = [[0] * n for index in range(n)]\n",
    "    \n",
    "    for i in range(n):\n",
    "        for k in range(i,n):\n",
    "            summation = 0\n",
    "            for j in range(i):\n",
    "                summation += lower[i][j] * upper[j][k]\n",
    "            upper[i][k] = A[i][k] - summation\n",
    "        \n",
    "        for k in range(i,n):\n",
    "            if (i == k):\n",
    "                lower[i][i] = 1\n",
    "            else:\n",
    "                summation = 0\n",
    "                for j in range(0,i):\n",
    "                    summation += lower[k][j] * upper[j][i]\n",
    "                lower[k][i] = (A[k][i] - summation) / upper[i][i]\n",
    "    return [lower,upper]"
   ]
  },
  {
   "cell_type": "code",
   "execution_count": 6,
   "metadata": {
    "collapsed": true
   },
   "outputs": [],
   "source": [
    "def LY_B(lower,B):\n",
    "    n = len(lower)\n",
    "    Y = [0 for i in range(n)]\n",
    "    summation = 0\n",
    "    for i in range(n):\n",
    "        summation = 0\n",
    "        for j in range(i):\n",
    "            summation += lower[i][j] * Y[j]\n",
    "        Y[i] = B[i] - summation    \n",
    "    return Y"
   ]
  },
  {
   "cell_type": "code",
   "execution_count": 7,
   "metadata": {
    "collapsed": true
   },
   "outputs": [],
   "source": [
    "def UX_Y(upper,Y):\n",
    "    n = len(upper)\n",
    "    X = [0 for i in range(n)]\n",
    "    summation = 0\n",
    "    for i in range(n):\n",
    "        summation = 0\n",
    "        for j in range(n-i,n):\n",
    "            summation += upper[n-i-1][j] * X[j]\n",
    "        X[n-i-1] = (Y[n-i-1] - summation)/upper[n-i-1][n-i-1]\n",
    "    return X"
   ]
  },
  {
   "cell_type": "code",
   "execution_count": 8,
   "metadata": {
    "collapsed": true
   },
   "outputs": [],
   "source": [
    "def solve_equations(test_case):\n",
    "    m, A, B = parse_case(test_case)\n",
    "    lower, upper = doolittle_algorithm(A)\n",
    "    Y = LY_B(lower,B)\n",
    "    X = UX_Y(upper,Y)\n",
    "    return [X, upper, lower]"
   ]
  },
  {
   "cell_type": "code",
   "execution_count": 9,
   "metadata": {
    "collapsed": false
   },
   "outputs": [],
   "source": [
    "results = []\n",
    "for test_case in test_cases:\n",
    "    result = solve_equations(test_case)\n",
    "    results.append(result)"
   ]
  },
  {
   "cell_type": "code",
   "execution_count": 10,
   "metadata": {
    "collapsed": true
   },
   "outputs": [],
   "source": [
    "def array_to_string(array):\n",
    "    string = ''\n",
    "    for item in array:\n",
    "        string += str(item)+' '\n",
    "    string = string.strip()\n",
    "    return string"
   ]
  },
  {
   "cell_type": "code",
   "execution_count": 21,
   "metadata": {
    "collapsed": false
   },
   "outputs": [],
   "source": [
    "output = ''\n",
    "for result in results:\n",
    "    solution, upper, lower = result\n",
    "    output += array_to_string(solution) + '\\n'\n",
    "    for row in upper:\n",
    "        output += array_to_string(row) + '\\n'\n",
    "    for row in lower:\n",
    "        output += array_to_string(row) + '\\n'\n",
    "    output += '\\n'\n",
    "output = output.strip()"
   ]
  },
  {
   "cell_type": "code",
   "execution_count": 22,
   "metadata": {
    "collapsed": false
   },
   "outputs": [
    {
     "data": {
      "text/plain": [
       "'3.0 -1.0 4.0 2.0\\n1.0 2.0 1.0 4.0\\n0 -4.0 2.0 -5.0\\n0 0 -5.0 -7.5\\n0 0 0 -9.0\\n1 0 0 0\\n2.0 1 0 0\\n4.0 1.5 1 0\\n-3.0 -1.75 -1.9 1\\n\\n1.0 -1.0 1.0\\n1.0 2.0 1.0\\n0 -2.0 1.0\\n0 0 0.5\\n1 0 0\\n2.0 1 0\\n-1.0 0.5 1'"
      ]
     },
     "execution_count": 22,
     "metadata": {},
     "output_type": "execute_result"
    }
   ],
   "source": [
    "output"
   ]
  },
  {
   "cell_type": "code",
   "execution_count": 23,
   "metadata": {
    "collapsed": true
   },
   "outputs": [],
   "source": [
    "output_file = open('output.txt', 'w')\n",
    "output_file.write(output)\n",
    "output_file.close()"
   ]
  },
  {
   "cell_type": "code",
   "execution_count": null,
   "metadata": {
    "collapsed": true
   },
   "outputs": [],
   "source": []
  }
 ],
 "metadata": {
  "kernelspec": {
   "display_name": "Python 3",
   "language": "python",
   "name": "python3"
  },
  "language_info": {
   "codemirror_mode": {
    "name": "ipython",
    "version": 3
   },
   "file_extension": ".py",
   "mimetype": "text/x-python",
   "name": "python",
   "nbconvert_exporter": "python",
   "pygments_lexer": "ipython3",
   "version": "3.6.0"
  }
 },
 "nbformat": 4,
 "nbformat_minor": 2
}
