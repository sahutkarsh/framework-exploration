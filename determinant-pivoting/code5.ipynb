{
 "cells": [
  {
   "cell_type": "code",
   "execution_count": 1,
   "metadata": {
    "collapsed": true
   },
   "outputs": [],
   "source": [
    "input_file = open('input.txt','r')\n",
    "input_lines = input_file.readlines()\n",
    "input_file.close()"
   ]
  },
  {
   "cell_type": "code",
   "execution_count": 2,
   "metadata": {
    "collapsed": true
   },
   "outputs": [],
   "source": [
    "lines = []"
   ]
  },
  {
   "cell_type": "code",
   "execution_count": 3,
   "metadata": {
    "collapsed": true
   },
   "outputs": [],
   "source": [
    "for line in input_lines:\n",
    "    if (line!='\\n'):\n",
    "        line = line.strip()\n",
    "    lines.append(line)"
   ]
  },
  {
   "cell_type": "code",
   "execution_count": 4,
   "metadata": {
    "collapsed": true
   },
   "outputs": [],
   "source": [
    "num_cases = lines[0]\n",
    "del lines[0]\n",
    "lines.append('\\n')"
   ]
  },
  {
   "cell_type": "code",
   "execution_count": 5,
   "metadata": {
    "collapsed": true
   },
   "outputs": [],
   "source": [
    "test_cases = []\n",
    "case = []"
   ]
  },
  {
   "cell_type": "code",
   "execution_count": 6,
   "metadata": {
    "collapsed": true
   },
   "outputs": [],
   "source": [
    "for line in lines:\n",
    "    if (line!='\\n'):\n",
    "        case.append(line)\n",
    "    if (line=='\\n'):\n",
    "        test_cases.append(case)\n",
    "        case = []"
   ]
  },
  {
   "cell_type": "code",
   "execution_count": 7,
   "metadata": {
    "collapsed": true
   },
   "outputs": [],
   "source": [
    "def parse_case(test_case):\n",
    "    m = int(test_case[0])\n",
    "    A = []\n",
    "    for row_index in range(m):\n",
    "        row = list(map(float, test_case[row_index+1].split()))\n",
    "        A.insert(row_index, row)\n",
    "    B = list(map(float, test_case[m+1].split()))\n",
    "    return [m,A,B]"
   ]
  },
  {
   "cell_type": "code",
   "execution_count": 8,
   "metadata": {
    "collapsed": true
   },
   "outputs": [],
   "source": [
    "def zero_transform(A, B, m, step_index):\n",
    "    step_element = A[step_index][step_index]\n",
    "    step_row = A[step_index]\n",
    "    step_row_sol = B[step_index]\n",
    "    for row_index in range(step_index+1, m):\n",
    "        row = A[row_index]\n",
    "        row_sol = B[row_index]\n",
    "        factor = row[step_index]/step_element\n",
    "        transformed_row = [item * factor for item in step_row]\n",
    "        transformed_row_sol = step_row_sol * factor\n",
    "        A[row_index] = [x-y for x,y in zip(row,transformed_row)]\n",
    "        B[row_index] = row_sol - transformed_row_sol\n",
    "        A[row_index][step_index] = 0\n",
    "    return [A,B]"
   ]
  },
  {
   "cell_type": "code",
   "execution_count": 9,
   "metadata": {
    "collapsed": true
   },
   "outputs": [],
   "source": [
    "def truncate(n, order):\n",
    "    n = int(n*(10**order))\n",
    "    n = n/(10**order)\n",
    "    return n"
   ]
  },
  {
   "cell_type": "code",
   "execution_count": 10,
   "metadata": {
    "collapsed": false
   },
   "outputs": [
    {
     "data": {
      "text/plain": [
       "[4,\n",
       " [[1.0, 2.0, 1.0, 4.0],\n",
       "  [2.0, 0.0, 4.0, 3.0],\n",
       "  [4.0, 2.0, 2.0, 1.0],\n",
       "  [-3.0, 1.0, 3.0, 2.0]],\n",
       " [13.0, 28.0, 20.0, 6.0]]"
      ]
     },
     "execution_count": 10,
     "metadata": {},
     "output_type": "execute_result"
    }
   ],
   "source": [
    "test_case = test_cases[0]\n",
    "parse_case(test_case)"
   ]
  },
  {
   "cell_type": "code",
   "execution_count": 11,
   "metadata": {
    "collapsed": true
   },
   "outputs": [],
   "source": [
    "def gaussian_determinant(test_case):\n",
    "    m,A,B = parse_case(test_case)\n",
    "    for step_index in range(m-1):\n",
    "        A,B = zero_transform(A, B, m, step_index)\n",
    "    \n",
    "    diagnols = []\n",
    "    determinant = 1\n",
    "    for index in range(m):\n",
    "        diagnols.append(A[index][index])\n",
    "        determinant *= A[index][index]\n",
    "    determinant = truncate(determinant,2)\n",
    "    return [A,B,determinant]"
   ]
  },
  {
   "cell_type": "code",
   "execution_count": 12,
   "metadata": {
    "collapsed": false
   },
   "outputs": [
    {
     "data": {
      "text/plain": [
       "[[[1.0, 2.0, 1.0, 4.0],\n",
       "  [0, -4.0, 2.0, -5.0],\n",
       "  [0.0, 0, -5.0, -7.5],\n",
       "  [0.0, 0.0, 0, -9.0]],\n",
       " [13.0, 2.0, -35.0, -18.0],\n",
       " -180.0]"
      ]
     },
     "execution_count": 12,
     "metadata": {},
     "output_type": "execute_result"
    }
   ],
   "source": [
    "gaussian_determinant(test_case)"
   ]
  },
  {
   "cell_type": "code",
   "execution_count": 13,
   "metadata": {
    "collapsed": false
   },
   "outputs": [],
   "source": [
    "def back_substitute(A,B):\n",
    "    m = len(A)\n",
    "    i = m - 1\n",
    "    solutions = [0 for i in range(m)]\n",
    "    while(i >= 0):\n",
    "        solved = 0\n",
    "        for j in range(i+1,m):\n",
    "            print('j',j)\n",
    "            solved += A[i][j] * solutions[j]\n",
    "        solution = (B[i] - solved)/A[i][i]\n",
    "        solutions.insert(i, solution)\n",
    "        i -= 1\n",
    "    return solutions"
   ]
  },
  {
   "cell_type": "code",
   "execution_count": 14,
   "metadata": {
    "collapsed": true
   },
   "outputs": [],
   "source": [
    "def solve_equations(test_case):\n",
    "    A, B, determinant = gaussian_determinant(test_case)\n",
    "    \n",
    "    last_row_zero = False\n",
    "    if(A[-1][-1] == 0 and B[-1] == 0):\n",
    "        last_row_zero = True\n",
    "    \n",
    "    if(determinant == 0 or last_row_zero):\n",
    "        return 0\n",
    "    \n",
    "    for index in range(len(A)):\n",
    "        diagnol_item = A[index][index]\n",
    "        if(diagnol_item == 0):\n",
    "            return -1\n",
    "        \n",
    "    solutions = back_substitute(A,B)\n",
    "    return solutions"
   ]
  },
  {
   "cell_type": "code",
   "execution_count": 15,
   "metadata": {
    "collapsed": false
   },
   "outputs": [
    {
     "name": "stdout",
     "output_type": "stream",
     "text": [
      "j 3\n",
      "j 2\n",
      "j 3\n",
      "j 1\n",
      "j 2\n",
      "j 3\n"
     ]
    },
    {
     "data": {
      "text/plain": [
       "[-6.0, 0, 1.5, 0, 4.0, 0, 2.0, 0]"
      ]
     },
     "execution_count": 15,
     "metadata": {},
     "output_type": "execute_result"
    }
   ],
   "source": [
    "solve_equations(test_case)"
   ]
  },
  {
   "cell_type": "code",
   "execution_count": 16,
   "metadata": {
    "collapsed": true
   },
   "outputs": [],
   "source": [
    "solutions = [0,0,0]\n",
    "solutions.insert(3,2)"
   ]
  },
  {
   "cell_type": "code",
   "execution_count": 17,
   "metadata": {
    "collapsed": false
   },
   "outputs": [
    {
     "name": "stdout",
     "output_type": "stream",
     "text": [
      "j 3\n",
      "j 2\n",
      "j 3\n",
      "j 1\n",
      "j 2\n",
      "j 3\n",
      "j 2\n",
      "j 1\n",
      "j 2\n"
     ]
    }
   ],
   "source": [
    "solutions = []\n",
    "for test_case in test_cases:\n",
    "    solution = solve_equations(test_case)\n",
    "    solutions.append(solution)"
   ]
  },
  {
   "cell_type": "code",
   "execution_count": null,
   "metadata": {
    "collapsed": true
   },
   "outputs": [],
   "source": []
  }
 ],
 "metadata": {
  "kernelspec": {
   "display_name": "Python 3",
   "language": "python",
   "name": "python3"
  },
  "language_info": {
   "codemirror_mode": {
    "name": "ipython",
    "version": 3
   },
   "file_extension": ".py",
   "mimetype": "text/x-python",
   "name": "python",
   "nbconvert_exporter": "python",
   "pygments_lexer": "ipython3",
   "version": "3.6.0"
  }
 },
 "nbformat": 4,
 "nbformat_minor": 2
}
