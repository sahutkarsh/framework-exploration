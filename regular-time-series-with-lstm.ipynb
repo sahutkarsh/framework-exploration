{
 "cells": [
  {
   "cell_type": "code",
   "execution_count": 1,
   "metadata": {
    "collapsed": false
   },
   "outputs": [],
   "source": [
    "import pandas as pd\n",
    "import numpy as np\n",
    "import matplotlib.pyplot as plt\n",
    "import math\n",
    "%matplotlib inline"
   ]
  },
  {
   "cell_type": "code",
   "execution_count": 2,
   "metadata": {
    "collapsed": false
   },
   "outputs": [
    {
     "name": "stderr",
     "output_type": "stream",
     "text": [
      "Using TensorFlow backend.\n"
     ]
    }
   ],
   "source": [
    "from keras.models import Sequential\n",
    "from keras.layers import Dense, LSTM, Dropout\n",
    "from sklearn.preprocessing import MinMaxScaler\n",
    "from sklearn.metrics import mean_squared_error"
   ]
  },
  {
   "cell_type": "code",
   "execution_count": 3,
   "metadata": {
    "collapsed": false
   },
   "outputs": [
    {
     "data": {
      "text/html": [
       "<div>\n",
       "<style>\n",
       "    .dataframe thead tr:only-child th {\n",
       "        text-align: right;\n",
       "    }\n",
       "\n",
       "    .dataframe thead th {\n",
       "        text-align: left;\n",
       "    }\n",
       "\n",
       "    .dataframe tbody tr th {\n",
       "        vertical-align: top;\n",
       "    }\n",
       "</style>\n",
       "<table border=\"1\" class=\"dataframe\">\n",
       "  <thead>\n",
       "    <tr style=\"text-align: right;\">\n",
       "      <th></th>\n",
       "      <th>Month</th>\n",
       "      <th>#Passengers</th>\n",
       "    </tr>\n",
       "  </thead>\n",
       "  <tbody>\n",
       "    <tr>\n",
       "      <th>0</th>\n",
       "      <td>1949-01</td>\n",
       "      <td>112</td>\n",
       "    </tr>\n",
       "    <tr>\n",
       "      <th>1</th>\n",
       "      <td>1949-02</td>\n",
       "      <td>118</td>\n",
       "    </tr>\n",
       "    <tr>\n",
       "      <th>2</th>\n",
       "      <td>1949-03</td>\n",
       "      <td>132</td>\n",
       "    </tr>\n",
       "    <tr>\n",
       "      <th>3</th>\n",
       "      <td>1949-04</td>\n",
       "      <td>129</td>\n",
       "    </tr>\n",
       "    <tr>\n",
       "      <th>4</th>\n",
       "      <td>1949-05</td>\n",
       "      <td>121</td>\n",
       "    </tr>\n",
       "  </tbody>\n",
       "</table>\n",
       "</div>"
      ],
      "text/plain": [
       "     Month  #Passengers\n",
       "0  1949-01          112\n",
       "1  1949-02          118\n",
       "2  1949-03          132\n",
       "3  1949-04          129\n",
       "4  1949-05          121"
      ]
     },
     "execution_count": 3,
     "metadata": {},
     "output_type": "execute_result"
    }
   ],
   "source": [
    "data_path = 'datasets/air-passengers/data.csv'\n",
    "dataset = pd.read_csv(data_path)\n",
    "dataset.head(5)"
   ]
  },
  {
   "cell_type": "code",
   "execution_count": 4,
   "metadata": {
    "collapsed": false
   },
   "outputs": [
    {
     "data": {
      "image/png": "[encoded data removed]",
      "text/plain": [
       "<matplotlib.figure.Figure at 0x4f9f6a400>"
      ]
     },
     "metadata": {},
     "output_type": "display_data"
    }
   ],
   "source": [
    "plt.plot(dataset['#Passengers'])\n",
    "plt.show()"
   ]
  },
  {
   "cell_type": "code",
   "execution_count": 5,
   "metadata": {
    "collapsed": false
   },
   "outputs": [],
   "source": [
    "np.random.seed(7)"
   ]
  },
  {
   "cell_type": "code",
   "execution_count": 6,
   "metadata": {
    "collapsed": false
   },
   "outputs": [],
   "source": [
    "dataframe = pd.read_csv(data_path, usecols=[1], engine='python', skipfooter=3)\n",
    "dataset = dataframe.values\n",
    "dataset = dataset.astype('float32')"
   ]
  },
  {
   "cell_type": "code",
   "execution_count": 7,
   "metadata": {
    "collapsed": false
   },
   "outputs": [
    {
     "data": {
      "text/plain": [
       "array([[ 112.],\n",
       "       [ 118.],\n",
       "       [ 132.],\n",
       "       [ 129.],\n",
       "       [ 121.],\n",
       "       [ 135.],\n",
       "       [ 148.],\n",
       "       [ 148.],\n",
       "       [ 136.],\n",
       "       [ 119.],\n",
       "       [ 104.],\n",
       "       [ 118.],\n",
       "       [ 115.],\n",
       "       [ 126.],\n",
       "       [ 141.],\n",
       "       [ 135.],\n",
       "       [ 125.],\n",
       "       [ 149.],\n",
       "       [ 170.],\n",
       "       [ 170.],\n",
       "       [ 158.],\n",
       "       [ 133.],\n",
       "       [ 114.],\n",
       "       [ 140.],\n",
       "       [ 145.],\n",
       "       [ 150.],\n",
       "       [ 178.],\n",
       "       [ 163.],\n",
       "       [ 172.],\n",
       "       [ 178.],\n",
       "       [ 199.],\n",
       "       [ 199.],\n",
       "       [ 184.],\n",
       "       [ 162.],\n",
       "       [ 146.],\n",
       "       [ 166.],\n",
       "       [ 171.],\n",
       "       [ 180.],\n",
       "       [ 193.],\n",
       "       [ 181.],\n",
       "       [ 183.],\n",
       "       [ 218.],\n",
       "       [ 230.],\n",
       "       [ 242.],\n",
       "       [ 209.],\n",
       "       [ 191.],\n",
       "       [ 172.],\n",
       "       [ 194.],\n",
       "       [ 196.],\n",
       "       [ 196.],\n",
       "       [ 236.],\n",
       "       [ 235.],\n",
       "       [ 229.],\n",
       "       [ 243.],\n",
       "       [ 264.],\n",
       "       [ 272.],\n",
       "       [ 237.],\n",
       "       [ 211.],\n",
       "       [ 180.],\n",
       "       [ 201.],\n",
       "       [ 204.],\n",
       "       [ 188.],\n",
       "       [ 235.],\n",
       "       [ 227.],\n",
       "       [ 234.],\n",
       "       [ 264.],\n",
       "       [ 302.],\n",
       "       [ 293.],\n",
       "       [ 259.],\n",
       "       [ 229.],\n",
       "       [ 203.],\n",
       "       [ 229.],\n",
       "       [ 242.],\n",
       "       [ 233.],\n",
       "       [ 267.],\n",
       "       [ 269.],\n",
       "       [ 270.],\n",
       "       [ 315.],\n",
       "       [ 364.],\n",
       "       [ 347.],\n",
       "       [ 312.],\n",
       "       [ 274.],\n",
       "       [ 237.],\n",
       "       [ 278.],\n",
       "       [ 284.],\n",
       "       [ 277.],\n",
       "       [ 317.],\n",
       "       [ 313.],\n",
       "       [ 318.],\n",
       "       [ 374.],\n",
       "       [ 413.],\n",
       "       [ 405.],\n",
       "       [ 355.],\n",
       "       [ 306.],\n",
       "       [ 271.],\n",
       "       [ 306.],\n",
       "       [ 315.],\n",
       "       [ 301.],\n",
       "       [ 356.],\n",
       "       [ 348.],\n",
       "       [ 355.],\n",
       "       [ 422.],\n",
       "       [ 465.],\n",
       "       [ 467.],\n",
       "       [ 404.],\n",
       "       [ 347.],\n",
       "       [ 305.],\n",
       "       [ 336.],\n",
       "       [ 340.],\n",
       "       [ 318.],\n",
       "       [ 362.],\n",
       "       [ 348.],\n",
       "       [ 363.],\n",
       "       [ 435.],\n",
       "       [ 491.],\n",
       "       [ 505.],\n",
       "       [ 404.],\n",
       "       [ 359.],\n",
       "       [ 310.],\n",
       "       [ 337.],\n",
       "       [ 360.],\n",
       "       [ 342.],\n",
       "       [ 406.],\n",
       "       [ 396.],\n",
       "       [ 420.],\n",
       "       [ 472.],\n",
       "       [ 548.],\n",
       "       [ 559.],\n",
       "       [ 463.],\n",
       "       [ 407.],\n",
       "       [ 362.],\n",
       "       [ 405.],\n",
       "       [ 417.],\n",
       "       [ 391.],\n",
       "       [ 419.],\n",
       "       [ 461.],\n",
       "       [ 472.],\n",
       "       [ 535.],\n",
       "       [ 622.],\n",
       "       [ 606.],\n",
       "       [ 508.]], dtype=float32)"
      ]
     },
     "execution_count": 7,
     "metadata": {},
     "output_type": "execute_result"
    }
   ],
   "source": [
    "dataset"
   ]
  },
  {
   "cell_type": "code",
   "execution_count": 8,
   "metadata": {
    "collapsed": true
   },
   "outputs": [],
   "source": [
    "scaler = MinMaxScaler(feature_range=(0, 1))\n",
    "dataset = scaler.fit_transform(dataset)"
   ]
  },
  {
   "cell_type": "code",
   "execution_count": 9,
   "metadata": {
    "collapsed": false
   },
   "outputs": [],
   "source": [
    "train_size = int(len(dataset) * 0.67)\n",
    "test_size = len(dataset) - train_size\n",
    "train, test = dataset[0:train_size,:], dataset[train_size:len(dataset),:]"
   ]
  },
  {
   "cell_type": "markdown",
   "metadata": {},
   "source": [
    "Add previous data rows as look back features"
   ]
  },
  {
   "cell_type": "code",
   "execution_count": 10,
   "metadata": {
    "collapsed": false
   },
   "outputs": [],
   "source": [
    "def create_dataset(dataset, look_back=1):\n",
    "    dataX, dataY = [], []\n",
    "    for i in range(len(dataset)-look_back-1):\n",
    "        a = dataset[i:(i+look_back), 0]\n",
    "        dataX.append(a)\n",
    "        dataY.append(dataset[i + look_back, 0])\n",
    "    return np.array(dataX), np.array(dataY)"
   ]
  },
  {
   "cell_type": "code",
   "execution_count": 11,
   "metadata": {
    "collapsed": false
   },
   "outputs": [
    {
     "data": {
      "text/html": [
       "<div>\n",
       "<style>\n",
       "    .dataframe thead tr:only-child th {\n",
       "        text-align: right;\n",
       "    }\n",
       "\n",
       "    .dataframe thead th {\n",
       "        text-align: left;\n",
       "    }\n",
       "\n",
       "    .dataframe tbody tr th {\n",
       "        vertical-align: top;\n",
       "    }\n",
       "</style>\n",
       "<table border=\"1\" class=\"dataframe\">\n",
       "  <thead>\n",
       "    <tr style=\"text-align: right;\">\n",
       "      <th></th>\n",
       "      <th>0</th>\n",
       "      <th>1</th>\n",
       "    </tr>\n",
       "  </thead>\n",
       "  <tbody>\n",
       "    <tr>\n",
       "      <th>0</th>\n",
       "      <td>0.015444</td>\n",
       "      <td>0.027027</td>\n",
       "    </tr>\n",
       "    <tr>\n",
       "      <th>1</th>\n",
       "      <td>0.027027</td>\n",
       "      <td>0.054054</td>\n",
       "    </tr>\n",
       "    <tr>\n",
       "      <th>2</th>\n",
       "      <td>0.054054</td>\n",
       "      <td>0.048263</td>\n",
       "    </tr>\n",
       "    <tr>\n",
       "      <th>3</th>\n",
       "      <td>0.048263</td>\n",
       "      <td>0.032819</td>\n",
       "    </tr>\n",
       "    <tr>\n",
       "      <th>4</th>\n",
       "      <td>0.032819</td>\n",
       "      <td>0.059846</td>\n",
       "    </tr>\n",
       "  </tbody>\n",
       "</table>\n",
       "</div>"
      ],
      "text/plain": [
       "          0         1\n",
       "0  0.015444  0.027027\n",
       "1  0.027027  0.054054\n",
       "2  0.054054  0.048263\n",
       "3  0.048263  0.032819\n",
       "4  0.032819  0.059846"
      ]
     },
     "execution_count": 11,
     "metadata": {},
     "output_type": "execute_result"
    }
   ],
   "source": [
    "look_back = 2\n",
    "trainX, trainY = create_dataset(train, look_back)\n",
    "testX, testY = create_dataset(test, look_back)\n",
    "pd.DataFrame(trainX).head(5)"
   ]
  },
  {
   "cell_type": "code",
   "execution_count": 12,
   "metadata": {
    "collapsed": false
   },
   "outputs": [],
   "source": [
    "look_back = 1\n",
    "trainX, trainY = create_dataset(train, look_back)\n",
    "testX, testY = create_dataset(test, look_back)"
   ]
  },
  {
   "cell_type": "code",
   "execution_count": 13,
   "metadata": {
    "collapsed": false
   },
   "outputs": [
    {
     "data": {
      "text/plain": [
       "((92, 1), (45, 1))"
      ]
     },
     "execution_count": 13,
     "metadata": {},
     "output_type": "execute_result"
    }
   ],
   "source": [
    "trainX.shape, testX.shape"
   ]
  },
  {
   "cell_type": "markdown",
   "metadata": {},
   "source": [
    "Including Time steps to the shape before feeding in LSTM"
   ]
  },
  {
   "cell_type": "code",
   "execution_count": 14,
   "metadata": {
    "collapsed": false
   },
   "outputs": [],
   "source": [
    "trainX = np.reshape(trainX, (trainX.shape[0], 1, trainX.shape[1]))\n",
    "testX = np.reshape(testX, (testX.shape[0], 1, testX.shape[1]))"
   ]
  },
  {
   "cell_type": "markdown",
   "metadata": {},
   "source": [
    "# Model 1: Simple LSTM with no Look-Back"
   ]
  },
  {
   "cell_type": "code",
   "execution_count": 15,
   "metadata": {
    "collapsed": false
   },
   "outputs": [
    {
     "name": "stdout",
     "output_type": "stream",
     "text": [
      "Epoch 1/100\n",
      " - 1s - loss: 0.0404\n",
      "Epoch 2/100\n",
      " - 0s - loss: 0.0200\n",
      "Epoch 3/100\n",
      " - 0s - loss: 0.0146\n",
      "Epoch 4/100\n",
      " - 0s - loss: 0.0135\n",
      "Epoch 5/100\n",
      " - 0s - loss: 0.0124\n",
      "Epoch 6/100\n",
      " - 0s - loss: 0.0116\n",
      "Epoch 7/100\n",
      " - 0s - loss: 0.0105\n",
      "Epoch 8/100\n",
      " - 0s - loss: 0.0096\n",
      "Epoch 9/100\n",
      " - 0s - loss: 0.0086\n",
      "Epoch 10/100\n",
      " - 0s - loss: 0.0075\n",
      "Epoch 11/100\n",
      " - 0s - loss: 0.0066\n",
      "Epoch 12/100\n",
      " - 0s - loss: 0.0056\n",
      "Epoch 13/100\n",
      " - 0s - loss: 0.0049\n",
      "Epoch 14/100\n",
      " - 0s - loss: 0.0041\n",
      "Epoch 15/100\n",
      " - 0s - loss: 0.0035\n",
      "Epoch 16/100\n",
      " - 0s - loss: 0.0030\n",
      "Epoch 17/100\n",
      " - 0s - loss: 0.0027\n",
      "Epoch 18/100\n",
      " - 0s - loss: 0.0024\n",
      "Epoch 19/100\n",
      " - 0s - loss: 0.0022\n",
      "Epoch 20/100\n",
      " - 0s - loss: 0.0021\n",
      "Epoch 21/100\n",
      " - 0s - loss: 0.0020\n",
      "Epoch 22/100\n",
      " - 0s - loss: 0.0020\n",
      "Epoch 23/100\n",
      " - 0s - loss: 0.0020\n",
      "Epoch 24/100\n",
      " - 0s - loss: 0.0020\n",
      "Epoch 25/100\n",
      " - 0s - loss: 0.0019\n",
      "Epoch 26/100\n",
      " - 0s - loss: 0.0020\n",
      "Epoch 27/100\n",
      " - 0s - loss: 0.0020\n",
      "Epoch 28/100\n",
      " - 0s - loss: 0.0019\n",
      "Epoch 29/100\n",
      " - 0s - loss: 0.0019\n",
      "Epoch 30/100\n",
      " - 0s - loss: 0.0020\n",
      "Epoch 31/100\n",
      " - 0s - loss: 0.0020\n",
      "Epoch 32/100\n",
      " - 0s - loss: 0.0019\n",
      "Epoch 33/100\n",
      " - 0s - loss: 0.0019\n",
      "Epoch 34/100\n",
      " - 0s - loss: 0.0020\n",
      "Epoch 35/100\n",
      " - 0s - loss: 0.0020\n",
      "Epoch 36/100\n",
      " - 0s - loss: 0.0020\n",
      "Epoch 37/100\n",
      " - 0s - loss: 0.0020\n",
      "Epoch 38/100\n",
      " - 0s - loss: 0.0020\n",
      "Epoch 39/100\n",
      " - 0s - loss: 0.0020\n",
      "Epoch 40/100\n",
      " - 0s - loss: 0.0019\n",
      "Epoch 41/100\n",
      " - 0s - loss: 0.0019\n",
      "Epoch 42/100\n",
      " - 0s - loss: 0.0019\n",
      "Epoch 43/100\n",
      " - 0s - loss: 0.0020\n",
      "Epoch 44/100\n",
      " - 0s - loss: 0.0020\n",
      "Epoch 45/100\n",
      " - 0s - loss: 0.0020\n",
      "Epoch 46/100\n",
      " - 0s - loss: 0.0019\n",
      "Epoch 47/100\n",
      " - 0s - loss: 0.0019\n",
      "Epoch 48/100\n",
      " - 0s - loss: 0.0020\n",
      "Epoch 49/100\n",
      " - 0s - loss: 0.0019\n",
      "Epoch 50/100\n",
      " - 0s - loss: 0.0019\n",
      "Epoch 51/100\n",
      " - 0s - loss: 0.0020\n",
      "Epoch 52/100\n",
      " - 0s - loss: 0.0019\n",
      "Epoch 53/100\n",
      " - 0s - loss: 0.0020\n",
      "Epoch 54/100\n",
      " - 0s - loss: 0.0019\n",
      "Epoch 55/100\n",
      " - 0s - loss: 0.0020\n",
      "Epoch 56/100\n",
      " - 0s - loss: 0.0019\n",
      "Epoch 57/100\n",
      " - 0s - loss: 0.0019\n",
      "Epoch 58/100\n",
      " - 0s - loss: 0.0020\n",
      "Epoch 59/100\n",
      " - 0s - loss: 0.0019\n",
      "Epoch 60/100\n",
      " - 0s - loss: 0.0019\n",
      "Epoch 61/100\n",
      " - 0s - loss: 0.0019\n",
      "Epoch 62/100\n",
      " - 0s - loss: 0.0019\n",
      "Epoch 63/100\n",
      " - 0s - loss: 0.0019\n",
      "Epoch 64/100\n",
      " - 0s - loss: 0.0020\n",
      "Epoch 65/100\n",
      " - 0s - loss: 0.0019\n",
      "Epoch 66/100\n",
      " - 0s - loss: 0.0020\n",
      "Epoch 67/100\n",
      " - 0s - loss: 0.0019\n",
      "Epoch 68/100\n",
      " - 0s - loss: 0.0019\n",
      "Epoch 69/100\n",
      " - 0s - loss: 0.0019\n",
      "Epoch 70/100\n",
      " - 0s - loss: 0.0019\n",
      "Epoch 71/100\n",
      " - 0s - loss: 0.0019\n",
      "Epoch 72/100\n",
      " - 0s - loss: 0.0019\n",
      "Epoch 73/100\n",
      " - 0s - loss: 0.0018\n",
      "Epoch 74/100\n",
      " - 0s - loss: 0.0021\n",
      "Epoch 75/100\n",
      " - 0s - loss: 0.0020\n",
      "Epoch 76/100\n",
      " - 0s - loss: 0.0020\n",
      "Epoch 77/100\n",
      " - 0s - loss: 0.0020\n",
      "Epoch 78/100\n",
      " - 0s - loss: 0.0019\n",
      "Epoch 79/100\n",
      " - 0s - loss: 0.0019\n",
      "Epoch 80/100\n",
      " - 0s - loss: 0.0019\n",
      "Epoch 81/100\n",
      " - 0s - loss: 0.0019\n",
      "Epoch 82/100\n",
      " - 0s - loss: 0.0019\n",
      "Epoch 83/100\n",
      " - 0s - loss: 0.0019\n",
      "Epoch 84/100\n",
      " - 0s - loss: 0.0019\n",
      "Epoch 85/100\n",
      " - 0s - loss: 0.0020\n",
      "Epoch 86/100\n",
      " - 0s - loss: 0.0019\n",
      "Epoch 87/100\n",
      " - 0s - loss: 0.0019\n",
      "Epoch 88/100\n",
      " - 0s - loss: 0.0019\n",
      "Epoch 89/100\n",
      " - 0s - loss: 0.0020\n",
      "Epoch 90/100\n",
      " - 0s - loss: 0.0019\n",
      "Epoch 91/100\n",
      " - 0s - loss: 0.0019\n",
      "Epoch 92/100\n",
      " - 0s - loss: 0.0019\n",
      "Epoch 93/100\n",
      " - 0s - loss: 0.0019\n",
      "Epoch 94/100\n",
      " - 0s - loss: 0.0019\n",
      "Epoch 95/100\n",
      " - 0s - loss: 0.0019\n",
      "Epoch 96/100\n",
      " - 0s - loss: 0.0020\n",
      "Epoch 97/100\n",
      " - 0s - loss: 0.0019\n",
      "Epoch 98/100\n",
      " - 0s - loss: 0.0019\n",
      "Epoch 99/100\n",
      " - 0s - loss: 0.0019\n",
      "Epoch 100/100\n",
      " - 0s - loss: 0.0019\n"
     ]
    },
    {
     "data": {
      "text/plain": [
       "<keras.callbacks.History at 0x4fc46b3c8>"
      ]
     },
     "execution_count": 15,
     "metadata": {},
     "output_type": "execute_result"
    }
   ],
   "source": [
    "model = Sequential()\n",
    "model.add(LSTM(4, input_shape=(1, look_back)))\n",
    "model.add(Dense(1))\n",
    "model.compile(loss='mean_squared_error', optimizer='adam')\n",
    "model.fit(trainX, trainY, epochs=100, batch_size=1, verbose=2)"
   ]
  },
  {
   "cell_type": "code",
   "execution_count": 16,
   "metadata": {
    "collapsed": true
   },
   "outputs": [],
   "source": [
    "trainPredict = model.predict(trainX)\n",
    "testPredict = model.predict(testX)"
   ]
  },
  {
   "cell_type": "code",
   "execution_count": 17,
   "metadata": {
    "collapsed": true
   },
   "outputs": [],
   "source": [
    "trainPredict = scaler.inverse_transform(trainPredict)\n",
    "trainY = scaler.inverse_transform([trainY])\n",
    "testPredict = scaler.inverse_transform(testPredict)\n",
    "testY = scaler.inverse_transform([testY])"
   ]
  },
  {
   "cell_type": "code",
   "execution_count": 18,
   "metadata": {
    "collapsed": false
   },
   "outputs": [
    {
     "name": "stdout",
     "output_type": "stream",
     "text": [
      "Train Score: 22.34 RMSE\n",
      "Test Score: 45.66 RMSE\n"
     ]
    }
   ],
   "source": [
    "trainScore = math.sqrt(mean_squared_error(trainY[0], trainPredict[:,0]))\n",
    "print('Train Score: %.2f RMSE' % (trainScore))\n",
    "testScore = math.sqrt(mean_squared_error(testY[0], testPredict[:,0]))\n",
    "print('Test Score: %.2f RMSE' % (testScore))"
   ]
  },
  {
   "cell_type": "code",
   "execution_count": 19,
   "metadata": {
    "collapsed": false
   },
   "outputs": [],
   "source": [
    "trainPredictPlot = np.empty_like(dataset)\n",
    "trainPredictPlot[:, :] = np.nan\n",
    "trainPredictPlot[look_back:len(trainPredict)+look_back, :] = trainPredict"
   ]
  },
  {
   "cell_type": "code",
   "execution_count": 20,
   "metadata": {
    "collapsed": false
   },
   "outputs": [],
   "source": [
    "testPredictPlot = np.empty_like(dataset)\n",
    "testPredictPlot[:, :] = np.nan\n",
    "testPredictPlot[len(trainPredict)+(look_back*2)+1:len(dataset)-1, :] = testPredict"
   ]
  },
  {
   "cell_type": "code",
   "execution_count": 21,
   "metadata": {
    "collapsed": false
   },
   "outputs": [
    {
     "data": {
      "text/plain": [
       "[<matplotlib.lines.Line2D at 0x4fdc1f668>]"
      ]
     },
     "execution_count": 21,
     "metadata": {},
     "output_type": "execute_result"
    },
    {
     "data": {
      "image/png": "[encoded data removed]",
      "text/plain": [
       "<matplotlib.figure.Figure at 0x4fdb9b630>"
      ]
     },
     "metadata": {},
     "output_type": "display_data"
    }
   ],
   "source": [
    "plt.figure(figsize=(15,8))\n",
    "plt.plot(scaler.inverse_transform(dataset), color='red')\n",
    "plt.plot(trainPredictPlot, color='green')\n",
    "plt.plot(testPredictPlot, color='orange')"
   ]
  },
  {
   "cell_type": "markdown",
   "metadata": {},
   "source": [
    "# Model 2: Window Method"
   ]
  },
  {
   "cell_type": "code",
   "execution_count": 42,
   "metadata": {
    "collapsed": true
   },
   "outputs": [],
   "source": [
    "look_back = 2\n",
    "trainX, trainY = create_dataset(train, look_back)\n",
    "testX, testY = create_dataset(test, look_back)"
   ]
  },
  {
   "cell_type": "code",
   "execution_count": 43,
   "metadata": {
    "collapsed": false
   },
   "outputs": [
    {
     "data": {
      "text/html": [
       "<div>\n",
       "<style>\n",
       "    .dataframe thead tr:only-child th {\n",
       "        text-align: right;\n",
       "    }\n",
       "\n",
       "    .dataframe thead th {\n",
       "        text-align: left;\n",
       "    }\n",
       "\n",
       "    .dataframe tbody tr th {\n",
       "        vertical-align: top;\n",
       "    }\n",
       "</style>\n",
       "<table border=\"1\" class=\"dataframe\">\n",
       "  <thead>\n",
       "    <tr style=\"text-align: right;\">\n",
       "      <th></th>\n",
       "      <th>0</th>\n",
       "      <th>1</th>\n",
       "    </tr>\n",
       "  </thead>\n",
       "  <tbody>\n",
       "    <tr>\n",
       "      <th>0</th>\n",
       "      <td>0.015444</td>\n",
       "      <td>0.027027</td>\n",
       "    </tr>\n",
       "    <tr>\n",
       "      <th>1</th>\n",
       "      <td>0.027027</td>\n",
       "      <td>0.054054</td>\n",
       "    </tr>\n",
       "    <tr>\n",
       "      <th>2</th>\n",
       "      <td>0.054054</td>\n",
       "      <td>0.048263</td>\n",
       "    </tr>\n",
       "    <tr>\n",
       "      <th>3</th>\n",
       "      <td>0.048263</td>\n",
       "      <td>0.032819</td>\n",
       "    </tr>\n",
       "    <tr>\n",
       "      <th>4</th>\n",
       "      <td>0.032819</td>\n",
       "      <td>0.059846</td>\n",
       "    </tr>\n",
       "  </tbody>\n",
       "</table>\n",
       "</div>"
      ],
      "text/plain": [
       "          0         1\n",
       "0  0.015444  0.027027\n",
       "1  0.027027  0.054054\n",
       "2  0.054054  0.048263\n",
       "3  0.048263  0.032819\n",
       "4  0.032819  0.059846"
      ]
     },
     "execution_count": 43,
     "metadata": {},
     "output_type": "execute_result"
    }
   ],
   "source": [
    "pd.DataFrame(trainX).head(5)"
   ]
  },
  {
   "cell_type": "code",
   "execution_count": 44,
   "metadata": {
    "collapsed": true
   },
   "outputs": [],
   "source": [
    "trainX = np.reshape(trainX, (trainX.shape[0], 1, trainX.shape[1]))\n",
    "testX = np.reshape(testX, (testX.shape[0], 1, testX.shape[1]))"
   ]
  },
  {
   "cell_type": "code",
   "execution_count": 45,
   "metadata": {
    "collapsed": false
   },
   "outputs": [
    {
     "data": {
      "text/plain": [
       "array([[[ 0.01544401,  0.02702703]],\n",
       "\n",
       "       [[ 0.02702703,  0.05405405]],\n",
       "\n",
       "       [[ 0.05405405,  0.04826255]],\n",
       "\n",
       "       [[ 0.04826255,  0.03281853]],\n",
       "\n",
       "       [[ 0.03281853,  0.05984557]],\n",
       "\n",
       "       [[ 0.05984557,  0.08494207]],\n",
       "\n",
       "       [[ 0.08494207,  0.08494207]],\n",
       "\n",
       "       [[ 0.08494207,  0.06177607]],\n",
       "\n",
       "       [[ 0.06177607,  0.02895753]],\n",
       "\n",
       "       [[ 0.02895753,  0.        ]],\n",
       "\n",
       "       [[ 0.        ,  0.02702703]],\n",
       "\n",
       "       [[ 0.02702703,  0.02123553]],\n",
       "\n",
       "       [[ 0.02123553,  0.04247104]],\n",
       "\n",
       "       [[ 0.04247104,  0.07142857]],\n",
       "\n",
       "       [[ 0.07142857,  0.05984557]],\n",
       "\n",
       "       [[ 0.05984557,  0.04054055]],\n",
       "\n",
       "       [[ 0.04054055,  0.08687258]],\n",
       "\n",
       "       [[ 0.08687258,  0.12741312]],\n",
       "\n",
       "       [[ 0.12741312,  0.12741312]],\n",
       "\n",
       "       [[ 0.12741312,  0.10424709]],\n",
       "\n",
       "       [[ 0.10424709,  0.05598456]],\n",
       "\n",
       "       [[ 0.05598456,  0.01930502]],\n",
       "\n",
       "       [[ 0.01930502,  0.06949806]],\n",
       "\n",
       "       [[ 0.06949806,  0.07915059]],\n",
       "\n",
       "       [[ 0.07915059,  0.08880308]],\n",
       "\n",
       "       [[ 0.08880308,  0.14285713]],\n",
       "\n",
       "       [[ 0.14285713,  0.11389962]],\n",
       "\n",
       "       [[ 0.11389962,  0.13127413]],\n",
       "\n",
       "       [[ 0.13127413,  0.14285713]],\n",
       "\n",
       "       [[ 0.14285713,  0.18339768]],\n",
       "\n",
       "       [[ 0.18339768,  0.18339768]],\n",
       "\n",
       "       [[ 0.18339768,  0.15444016]],\n",
       "\n",
       "       [[ 0.15444016,  0.11196911]],\n",
       "\n",
       "       [[ 0.11196911,  0.08108109]],\n",
       "\n",
       "       [[ 0.08108109,  0.1196911 ]],\n",
       "\n",
       "       [[ 0.1196911 ,  0.12934363]],\n",
       "\n",
       "       [[ 0.12934363,  0.14671814]],\n",
       "\n",
       "       [[ 0.14671814,  0.17181468]],\n",
       "\n",
       "       [[ 0.17181468,  0.14864865]],\n",
       "\n",
       "       [[ 0.14864865,  0.15250966]],\n",
       "\n",
       "       [[ 0.15250966,  0.22007722]],\n",
       "\n",
       "       [[ 0.22007722,  0.24324325]],\n",
       "\n",
       "       [[ 0.24324325,  0.26640925]],\n",
       "\n",
       "       [[ 0.26640925,  0.2027027 ]],\n",
       "\n",
       "       [[ 0.2027027 ,  0.16795367]],\n",
       "\n",
       "       [[ 0.16795367,  0.13127413]],\n",
       "\n",
       "       [[ 0.13127413,  0.17374519]],\n",
       "\n",
       "       [[ 0.17374519,  0.17760617]],\n",
       "\n",
       "       [[ 0.17760617,  0.17760617]],\n",
       "\n",
       "       [[ 0.17760617,  0.25482625]],\n",
       "\n",
       "       [[ 0.25482625,  0.25289574]],\n",
       "\n",
       "       [[ 0.25289574,  0.24131274]],\n",
       "\n",
       "       [[ 0.24131274,  0.26833975]],\n",
       "\n",
       "       [[ 0.26833975,  0.3088803 ]],\n",
       "\n",
       "       [[ 0.3088803 ,  0.32432434]],\n",
       "\n",
       "       [[ 0.32432434,  0.25675675]],\n",
       "\n",
       "       [[ 0.25675675,  0.20656371]],\n",
       "\n",
       "       [[ 0.20656371,  0.14671814]],\n",
       "\n",
       "       [[ 0.14671814,  0.18725869]],\n",
       "\n",
       "       [[ 0.18725869,  0.19305018]],\n",
       "\n",
       "       [[ 0.19305018,  0.16216215]],\n",
       "\n",
       "       [[ 0.16216215,  0.25289574]],\n",
       "\n",
       "       [[ 0.25289574,  0.23745173]],\n",
       "\n",
       "       [[ 0.23745173,  0.25096524]],\n",
       "\n",
       "       [[ 0.25096524,  0.3088803 ]],\n",
       "\n",
       "       [[ 0.3088803 ,  0.38223937]],\n",
       "\n",
       "       [[ 0.38223937,  0.36486486]],\n",
       "\n",
       "       [[ 0.36486486,  0.2992278 ]],\n",
       "\n",
       "       [[ 0.2992278 ,  0.24131274]],\n",
       "\n",
       "       [[ 0.24131274,  0.1911197 ]],\n",
       "\n",
       "       [[ 0.1911197 ,  0.24131274]],\n",
       "\n",
       "       [[ 0.24131274,  0.26640925]],\n",
       "\n",
       "       [[ 0.26640925,  0.24903473]],\n",
       "\n",
       "       [[ 0.24903473,  0.31467178]],\n",
       "\n",
       "       [[ 0.31467178,  0.31853279]],\n",
       "\n",
       "       [[ 0.31853279,  0.32046333]],\n",
       "\n",
       "       [[ 0.32046333,  0.40733591]],\n",
       "\n",
       "       [[ 0.40733591,  0.50193048]],\n",
       "\n",
       "       [[ 0.50193048,  0.46911195]],\n",
       "\n",
       "       [[ 0.46911195,  0.40154442]],\n",
       "\n",
       "       [[ 0.40154442,  0.32818535]],\n",
       "\n",
       "       [[ 0.32818535,  0.25675675]],\n",
       "\n",
       "       [[ 0.25675675,  0.33590731]],\n",
       "\n",
       "       [[ 0.33590731,  0.34749034]],\n",
       "\n",
       "       [[ 0.34749034,  0.33397684]],\n",
       "\n",
       "       [[ 0.33397684,  0.41119692]],\n",
       "\n",
       "       [[ 0.41119692,  0.4034749 ]],\n",
       "\n",
       "       [[ 0.4034749 ,  0.41312739]],\n",
       "\n",
       "       [[ 0.41312739,  0.52123547]],\n",
       "\n",
       "       [[ 0.52123547,  0.59652507]],\n",
       "\n",
       "       [[ 0.59652507,  0.58108103]]], dtype=float32)"
      ]
     },
     "execution_count": 45,
     "metadata": {},
     "output_type": "execute_result"
    }
   ],
   "source": [
    "trainX"
   ]
  },
  {
   "cell_type": "code",
   "execution_count": 46,
   "metadata": {
    "collapsed": false
   },
   "outputs": [
    {
     "data": {
      "text/plain": [
       "<keras.callbacks.History at 0x481614eb8>"
      ]
     },
     "execution_count": 46,
     "metadata": {},
     "output_type": "execute_result"
    }
   ],
   "source": [
    "model = Sequential()\n",
    "model.add(LSTM(4, input_shape=(1, look_back)))\n",
    "model.add(Dense(1))\n",
    "model.compile(loss='mean_squared_error', optimizer='adam')\n",
    "model.fit(trainX, trainY, epochs=100, batch_size=1, verbose=0)"
   ]
  },
  {
   "cell_type": "code",
   "execution_count": 47,
   "metadata": {
    "collapsed": true
   },
   "outputs": [],
   "source": [
    "trainPredict = model.predict(trainX)\n",
    "testPredict = model.predict(testX)"
   ]
  },
  {
   "cell_type": "code",
   "execution_count": 48,
   "metadata": {
    "collapsed": true
   },
   "outputs": [],
   "source": [
    "trainPredict = scaler.inverse_transform(trainPredict)\n",
    "trainY = scaler.inverse_transform([trainY])\n",
    "testPredict = scaler.inverse_transform(testPredict)\n",
    "testY = scaler.inverse_transform([testY])"
   ]
  },
  {
   "cell_type": "code",
   "execution_count": 49,
   "metadata": {
    "collapsed": false
   },
   "outputs": [
    {
     "name": "stdout",
     "output_type": "stream",
     "text": [
      "Train Score: 23.18 RMSE\n",
      "Test Score: 43.66 RMSE\n"
     ]
    }
   ],
   "source": [
    "trainScore = math.sqrt(mean_squared_error(trainY[0], trainPredict[:,0]))\n",
    "print('Train Score: %.2f RMSE' % (trainScore))\n",
    "testScore = math.sqrt(mean_squared_error(testY[0], testPredict[:,0]))\n",
    "print('Test Score: %.2f RMSE' % (testScore))"
   ]
  },
  {
   "cell_type": "code",
   "execution_count": 50,
   "metadata": {
    "collapsed": false
   },
   "outputs": [],
   "source": [
    "trainPredictPlot = np.empty_like(dataset)\n",
    "trainPredictPlot[:, :] = np.nan\n",
    "trainPredictPlot[look_back:len(trainPredict)+look_back, :] = trainPredict"
   ]
  },
  {
   "cell_type": "code",
   "execution_count": 51,
   "metadata": {
    "collapsed": false
   },
   "outputs": [],
   "source": [
    "testPredictPlot = np.empty_like(dataset)\n",
    "testPredictPlot[:, :] = np.nan\n",
    "testPredictPlot[len(trainPredict)+(look_back*2)+1:len(dataset)-1, :] = testPredict"
   ]
  },
  {
   "cell_type": "code",
   "execution_count": 52,
   "metadata": {
    "collapsed": false
   },
   "outputs": [
    {
     "data": {
      "text/plain": [
       "[<matplotlib.lines.Line2D at 0x483273fd0>]"
      ]
     },
     "execution_count": 52,
     "metadata": {},
     "output_type": "execute_result"
    },
    {
     "data": {
      "image/png": "[encoded data removed]",
      "text/plain": [
       "<matplotlib.figure.Figure at 0x481564860>"
      ]
     },
     "metadata": {},
     "output_type": "display_data"
    }
   ],
   "source": [
    "plt.figure(figsize=(15,8))\n",
    "plt.plot(scaler.inverse_transform(dataset), color='red')\n",
    "plt.plot(trainPredictPlot, color='green')\n",
    "plt.plot(testPredictPlot, color='orange')"
   ]
  }
 ],
 "metadata": {
  "kernelspec": {
   "display_name": "Python 3",
   "language": "python",
   "name": "python3"
  },
  "language_info": {
   "codemirror_mode": {
    "name": "ipython",
    "version": 3
   },
   "file_extension": ".py",
   "mimetype": "text/x-python",
   "name": "python",
   "nbconvert_exporter": "python",
   "pygments_lexer": "ipython3",
   "version": "3.6.0"
  }
 },
 "nbformat": 4,
 "nbformat_minor": 2
}
