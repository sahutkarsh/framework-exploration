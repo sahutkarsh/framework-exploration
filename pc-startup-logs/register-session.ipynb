{
 "cells": [
  {
   "cell_type": "code",
   "execution_count": 1,
   "metadata": {},
   "outputs": [],
   "source": [
    "from datetime import datetime"
   ]
  },
  {
   "cell_type": "code",
   "execution_count": 2,
   "metadata": {},
   "outputs": [],
   "source": [
    "log_file = open('logs.txt', 'r')\n",
    "logs = log_file.read()\n",
    "log_file.close()"
   ]
  },
  {
   "cell_type": "code",
   "execution_count": 3,
   "metadata": {},
   "outputs": [
    {
     "data": {
      "text/plain": [
       "'Date: 14/10/2020 Time: 01:40:18 \\n'"
      ]
     },
     "execution_count": 3,
     "metadata": {},
     "output_type": "execute_result"
    }
   ],
   "source": [
    "current_session = datetime.now()\n",
    "current_session_log = current_session.strftime('Date: %d/%m/%Y Time: %H:%M:%S \\n')\n",
    "current_session_log"
   ]
  },
  {
   "cell_type": "code",
   "execution_count": 4,
   "metadata": {},
   "outputs": [
    {
     "name": "stdout",
     "output_type": "stream",
     "text": [
      "lkfllknklafnlkenfklenklkrDate: 14/10/2020 Time: 01:38:13 \n",
      "Date: 14/10/2020 Time: 01:38:13 \n",
      "Date: 14/10/2020 Time: 01:38:13 \n",
      "Date: 14/10/2020 Time: 01:38:41 \n",
      "Date: 14/10/2020 Time: 01:40:18 \n",
      "\n"
     ]
    }
   ],
   "source": [
    "logs += current_session_log\n",
    "print(logs)"
   ]
  },
  {
   "cell_type": "code",
   "execution_count": 5,
   "metadata": {},
   "outputs": [],
   "source": [
    "log_file = open('logs.txt', 'w')\n",
    "log_file.write(logs)\n",
    "log_file.close()"
   ]
  },
  {
   "cell_type": "code",
   "execution_count": null,
   "metadata": {},
   "outputs": [],
   "source": []
  }
 ],
 "metadata": {
  "kernelspec": {
   "display_name": "Python 3",
   "language": "python",
   "name": "python3"
  },
  "language_info": {
   "codemirror_mode": {
    "name": "ipython",
    "version": 3
   },
   "file_extension": ".py",
   "mimetype": "text/x-python",
   "name": "python",
   "nbconvert_exporter": "python",
   "pygments_lexer": "ipython3",
   "version": "3.7.6"
  }
 },
 "nbformat": 4,
 "nbformat_minor": 4
}
