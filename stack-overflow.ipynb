{
 "cells": [
  {
   "cell_type": "code",
   "execution_count": 9,
   "metadata": {
    "collapsed": true
   },
   "outputs": [],
   "source": [
    "import pandas as pd\n",
    "import numpy as np\n",
    "import matplotlib.pyplot as plt\n",
    "%matplotlib inline"
   ]
  },
  {
   "cell_type": "code",
   "execution_count": 59,
   "metadata": {
    "collapsed": true
   },
   "outputs": [],
   "source": [
    "percent_a = [0.0, 0.14461138635261822, 0.7135723695665084, 0.1332331586302625, 0.005661456252881448, 0.001252117554145005, 0.0004645085112166378, 0.00035005436997602294, 0.00022215624449490486, 0.00023561351825309235, 0.0002086862590241675, 6.732007408936779e-05, 6.05863332650809e-05, 6.05863332650809e-05]\n",
    "percent_b = [0.0, 0.022353373799523353, 0.28872107539164565, 0.2832141014468122, 0.24881229833603277, 0.11762929879669072, 0.026817901548899136, 0.006551745201648785, 0.002257040090596458, 0.0011432973091484767, 0.0009715065217634725, 0.0005568550354752638, 0.0005746105647015661, 0.0003968959570619065]\n",
    "percent_c = [0.0, 0.0017632461817612324, 0.2052342190616211, 0.204701164814267, 0.21966000802963298, 0.1954941169546308, 0.12414021698344926, 0.04017437572609526, 0.006155103753006311, 0.0010381122222360116, 0.0007998569581162712, 0.00045950544146869214, 0.0002609462416549537, 0.00011912763205987017]"
   ]
  },
  {
   "cell_type": "code",
   "execution_count": 60,
   "metadata": {},
   "outputs": [],
   "source": [
    "bins=[0.065,0.066,0.066867,0.06721653, 0.06756605, 0.06791558 ,0.06826511 ,0.06861463, 0.06896416 ,0.06931368 ,0.06966321 , 0.07001274 ,0.07036226, 0.07071179, 0.07106132]"
   ]
  },
  {
   "cell_type": "code",
   "execution_count": 64,
   "metadata": {},
   "outputs": [
    {
     "data": {
      "text/plain": [
       "(array([[11.,  0.,  2.,  0.,  0.,  0.,  0.,  0.,  0.,  0.,  0.,  0.,  0.,\n",
       "          1.],\n",
       "        [10.,  0.,  1.,  0.,  1.,  2.,  0.,  0.,  0.,  0.,  0.,  0.,  0.,\n",
       "          0.],\n",
       "        [ 9.,  0.,  1.,  1.,  3.,  0.,  0.,  0.,  0.,  0.,  0.,  0.,  0.,\n",
       "          0.]]),\n",
       " array([0.        , 0.05096945, 0.10193891, 0.15290836, 0.20387782,\n",
       "        0.25484727, 0.30581673, 0.35678618, 0.40775564, 0.45872509,\n",
       "        0.50969455, 0.560664  , 0.61163346, 0.66260291, 0.71357237]),\n",
       " <a list of 3 Lists of Patches objects>)"
      ]
     },
     "execution_count": 64,
     "metadata": {},
     "output_type": "execute_result"
    },
    {
     "data": {
      "image/png": "[encoded data removed]",
      "text/plain": [
       "<Figure size 432x288 with 1 Axes>"
      ]
     },
     "metadata": {},
     "output_type": "display_data"
    }
   ],
   "source": [
    "fig, ax = plt.subplots()\n",
    "plt.hist([percent_a,percent_b,percent_c], bins=14)"
   ]
  },
  {
   "cell_type": "code",
   "execution_count": 66,
   "metadata": {},
   "outputs": [],
   "source": [
    "data = pd.DataFrame(columns=['a','b','c'])"
   ]
  },
  {
   "cell_type": "code",
   "execution_count": 83,
   "metadata": {},
   "outputs": [],
   "source": [
    "data['a'] = percent_a\n",
    "data['b'] = percent_b\n",
    "data['c'] = percent_c"
   ]
  },
  {
   "cell_type": "code",
   "execution_count": 72,
   "metadata": {},
   "outputs": [
    {
     "data": {
      "text/html": [
       "<div>\n",
       "<style scoped>\n",
       "    .dataframe tbody tr th:only-of-type {\n",
       "        vertical-align: middle;\n",
       "    }\n",
       "\n",
       "    .dataframe tbody tr th {\n",
       "        vertical-align: top;\n",
       "    }\n",
       "\n",
       "    .dataframe thead th {\n",
       "        text-align: right;\n",
       "    }\n",
       "</style>\n",
       "<table border=\"1\" class=\"dataframe\">\n",
       "  <thead>\n",
       "    <tr style=\"text-align: right;\">\n",
       "      <th></th>\n",
       "      <th>a</th>\n",
       "      <th>b</th>\n",
       "      <th>c</th>\n",
       "    </tr>\n",
       "  </thead>\n",
       "  <tbody>\n",
       "    <tr>\n",
       "      <th>count</th>\n",
       "      <td>14.000000</td>\n",
       "      <td>14.000000</td>\n",
       "      <td>14.000000</td>\n",
       "    </tr>\n",
       "    <tr>\n",
       "      <th>mean</th>\n",
       "      <td>0.071429</td>\n",
       "      <td>0.071429</td>\n",
       "      <td>0.071429</td>\n",
       "    </tr>\n",
       "    <tr>\n",
       "      <th>std</th>\n",
       "      <td>0.191443</td>\n",
       "      <td>0.114070</td>\n",
       "      <td>0.094515</td>\n",
       "    </tr>\n",
       "    <tr>\n",
       "      <th>min</th>\n",
       "      <td>0.000000</td>\n",
       "      <td>0.000000</td>\n",
       "      <td>0.000000</td>\n",
       "    </tr>\n",
       "    <tr>\n",
       "      <th>25%</th>\n",
       "      <td>0.000103</td>\n",
       "      <td>0.000674</td>\n",
       "      <td>0.000545</td>\n",
       "    </tr>\n",
       "    <tr>\n",
       "      <th>50%</th>\n",
       "      <td>0.000293</td>\n",
       "      <td>0.004404</td>\n",
       "      <td>0.003959</td>\n",
       "    </tr>\n",
       "    <tr>\n",
       "      <th>75%</th>\n",
       "      <td>0.004559</td>\n",
       "      <td>0.094926</td>\n",
       "      <td>0.177656</td>\n",
       "    </tr>\n",
       "    <tr>\n",
       "      <th>max</th>\n",
       "      <td>0.713572</td>\n",
       "      <td>0.288721</td>\n",
       "      <td>0.219660</td>\n",
       "    </tr>\n",
       "  </tbody>\n",
       "</table>\n",
       "</div>"
      ],
      "text/plain": [
       "               a          b          c\n",
       "count  14.000000  14.000000  14.000000\n",
       "mean    0.071429   0.071429   0.071429\n",
       "std     0.191443   0.114070   0.094515\n",
       "min     0.000000   0.000000   0.000000\n",
       "25%     0.000103   0.000674   0.000545\n",
       "50%     0.000293   0.004404   0.003959\n",
       "75%     0.004559   0.094926   0.177656\n",
       "max     0.713572   0.288721   0.219660"
      ]
     },
     "execution_count": 72,
     "metadata": {},
     "output_type": "execute_result"
    }
   ],
   "source": [
    "data.describe()"
   ]
  },
  {
   "cell_type": "code",
   "execution_count": 73,
   "metadata": {},
   "outputs": [
    {
     "data": {
      "text/plain": [
       "[0.065,\n",
       " 0.066,\n",
       " 0.066867,\n",
       " 0.06721653,\n",
       " 0.06756605,\n",
       " 0.06791558,\n",
       " 0.06826511,\n",
       " 0.06861463,\n",
       " 0.06896416,\n",
       " 0.06931368,\n",
       " 0.06966321,\n",
       " 0.07001274,\n",
       " 0.07036226,\n",
       " 0.07071179,\n",
       " 0.07106132]"
      ]
     },
     "execution_count": 73,
     "metadata": {},
     "output_type": "execute_result"
    }
   ],
   "source": [
    "bins"
   ]
  },
  {
   "cell_type": "code",
   "execution_count": 85,
   "metadata": {},
   "outputs": [
    {
     "data": {
      "text/plain": [
       "<bound method DataFrame.sort_values of            a         b         c\n",
       "0   0.000000  0.000000  0.000000\n",
       "1   0.144611  0.022353  0.001763\n",
       "2   0.713572  0.288721  0.205234\n",
       "3   0.133233  0.283214  0.204701\n",
       "4   0.005661  0.248812  0.219660\n",
       "5   0.001252  0.117629  0.195494\n",
       "6   0.000465  0.026818  0.124140\n",
       "7   0.000350  0.006552  0.040174\n",
       "8   0.000222  0.002257  0.006155\n",
       "9   0.000236  0.001143  0.001038\n",
       "10  0.000209  0.000972  0.000800\n",
       "11  0.000067  0.000557  0.000460\n",
       "12  0.000061  0.000575  0.000261\n",
       "13  0.000061  0.000397  0.000119>"
      ]
     },
     "execution_count": 85,
     "metadata": {},
     "output_type": "execute_result"
    }
   ],
   "source": [
    "data.sort_values"
   ]
  },
  {
   "cell_type": "code",
   "execution_count": 84,
   "metadata": {},
   "outputs": [
    {
     "data": {
      "text/plain": [
       "<matplotlib.collections.PathCollection at 0x2806082a90>"
      ]
     },
     "execution_count": 84,
     "metadata": {},
     "output_type": "execute_result"
    },
    {
     "data": {
      "image/png": "[encoded data removed]",
      "text/plain": [
       "<Figure size 432x288 with 1 Axes>"
      ]
     },
     "metadata": {},
     "output_type": "display_data"
    }
   ],
   "source": [
    "plt.scatter(data['a'].sort_values(), data['a'].sort_values(), s=2)"
   ]
  },
  {
   "cell_type": "code",
   "execution_count": 16,
   "metadata": {},
   "outputs": [
    {
     "data": {
      "text/plain": [
       "True"
      ]
     },
     "execution_count": 16,
     "metadata": {},
     "output_type": "execute_result"
    }
   ],
   "source": [
    "torch.cuda.is_available()"
   ]
  },
  {
   "cell_type": "code",
   "execution_count": 17,
   "metadata": {},
   "outputs": [
    {
     "data": {
      "text/plain": [
       "False"
      ]
     },
     "execution_count": 17,
     "metadata": {},
     "output_type": "execute_result"
    }
   ],
   "source": [
    "torch.cuda.is_available()"
   ]
  },
  {
   "cell_type": "code",
   "execution_count": null,
   "metadata": {},
   "outputs": [],
   "source": []
  }
 ],
 "metadata": {
  "kernelspec": {
   "display_name": "Python 3",
   "language": "python",
   "name": "python3"
  },
  "language_info": {
   "codemirror_mode": {
    "name": "ipython",
    "version": 3
   },
   "file_extension": ".py",
   "mimetype": "text/x-python",
   "name": "python",
   "nbconvert_exporter": "python",
   "pygments_lexer": "ipython3",
   "version": "3.7.6"
  }
 },
 "nbformat": 4,
 "nbformat_minor": 2
}
