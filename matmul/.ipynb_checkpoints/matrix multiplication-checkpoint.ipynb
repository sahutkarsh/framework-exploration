{
 "cells": [
  {
   "cell_type": "code",
   "execution_count": 1,
   "metadata": {
    "collapsed": true
   },
   "outputs": [],
   "source": [
    "input_file = open('input.txt','r')\n",
    "input_lines = input_file.readlines()\n",
    "input_file.close()"
   ]
  },
  {
   "cell_type": "code",
   "execution_count": 2,
   "metadata": {
    "collapsed": false
   },
   "outputs": [
    {
     "name": "stdout",
     "output_type": "stream",
     "text": [
      "['2\\n', '2 3\\n', '4 7 1\\n', '3 5 9\\n', '3 2\\n', '1 5\\n', '2 4\\n', '9 2\\n', '\\n', '1 3\\n', '2 9 1\\n', '3 2\\n', '4 6\\n', '6 1\\n', '9 2']\n"
     ]
    }
   ],
   "source": [
    "print(input_lines)"
   ]
  },
  {
   "cell_type": "code",
   "execution_count": 3,
   "metadata": {
    "collapsed": true
   },
   "outputs": [],
   "source": [
    "lines = []"
   ]
  },
  {
   "cell_type": "code",
   "execution_count": 4,
   "metadata": {
    "collapsed": false
   },
   "outputs": [],
   "source": [
    "for line in input_lines:\n",
    "    if (line!='\\n'):\n",
    "        line = line.strip()\n",
    "    lines.append(line)"
   ]
  },
  {
   "cell_type": "code",
   "execution_count": 5,
   "metadata": {
    "collapsed": false
   },
   "outputs": [
    {
     "data": {
      "text/plain": [
       "['2',\n",
       " '2 3',\n",
       " '4 7 1',\n",
       " '3 5 9',\n",
       " '3 2',\n",
       " '1 5',\n",
       " '2 4',\n",
       " '9 2',\n",
       " '\\n',\n",
       " '1 3',\n",
       " '2 9 1',\n",
       " '3 2',\n",
       " '4 6',\n",
       " '6 1',\n",
       " '9 2']"
      ]
     },
     "execution_count": 5,
     "metadata": {},
     "output_type": "execute_result"
    }
   ],
   "source": [
    "lines"
   ]
  },
  {
   "cell_type": "code",
   "execution_count": 6,
   "metadata": {
    "collapsed": true
   },
   "outputs": [],
   "source": [
    "num_cases = lines[0]\n",
    "del lines[0]\n",
    "lines.append('\\n')"
   ]
  },
  {
   "cell_type": "code",
   "execution_count": 7,
   "metadata": {
    "collapsed": false
   },
   "outputs": [
    {
     "data": {
      "text/plain": [
       "['2 3',\n",
       " '4 7 1',\n",
       " '3 5 9',\n",
       " '3 2',\n",
       " '1 5',\n",
       " '2 4',\n",
       " '9 2',\n",
       " '\\n',\n",
       " '1 3',\n",
       " '2 9 1',\n",
       " '3 2',\n",
       " '4 6',\n",
       " '6 1',\n",
       " '9 2',\n",
       " '\\n']"
      ]
     },
     "execution_count": 7,
     "metadata": {},
     "output_type": "execute_result"
    }
   ],
   "source": [
    "lines"
   ]
  },
  {
   "cell_type": "code",
   "execution_count": 8,
   "metadata": {
    "collapsed": true
   },
   "outputs": [],
   "source": [
    "test_cases = []\n",
    "case = []"
   ]
  },
  {
   "cell_type": "code",
   "execution_count": 9,
   "metadata": {
    "collapsed": false
   },
   "outputs": [],
   "source": [
    "for line in lines:\n",
    "    if (line!='\\n'):\n",
    "        case.append(line)\n",
    "    if (line=='\\n'):\n",
    "        test_cases.append(case)\n",
    "        case = []"
   ]
  },
  {
   "cell_type": "code",
   "execution_count": 10,
   "metadata": {
    "collapsed": false
   },
   "outputs": [
    {
     "data": {
      "text/plain": [
       "[['2 3', '4 7 1', '3 5 9', '3 2', '1 5', '2 4', '9 2'],\n",
       " ['1 3', '2 9 1', '3 2', '4 6', '6 1', '9 2']]"
      ]
     },
     "execution_count": 10,
     "metadata": {},
     "output_type": "execute_result"
    }
   ],
   "source": [
    "test_cases"
   ]
  },
  {
   "cell_type": "code",
   "execution_count": 11,
   "metadata": {
    "collapsed": false
   },
   "outputs": [],
   "source": [
    "temp = test_cases[0]"
   ]
  },
  {
   "cell_type": "code",
   "execution_count": 56,
   "metadata": {
    "collapsed": false
   },
   "outputs": [],
   "source": [
    "def parse_case(test_case):\n",
    "    m, n = test_case[0].split()\n",
    "    m = int(m)\n",
    "    n = int(n)\n",
    "    j, k = test_case[m+1].split()\n",
    "    j = int(j)\n",
    "    k = int(k)\n",
    "    a = []\n",
    "    b = []\n",
    "    for row_index in range(m):\n",
    "        row = list(map(int, test_case[row_index+1].split()))\n",
    "        a.insert(row_index, row)\n",
    "    for row_index in range(j): \n",
    "        row = list(map(int, test_case[row_index+m+1].split()))\n",
    "        b.insert(row_index, row)\n",
    "    return [m,n,j,k,a,b]"
   ]
  },
  {
   "cell_type": "code",
   "execution_count": 57,
   "metadata": {
    "collapsed": false
   },
   "outputs": [
    {
     "data": {
      "text/plain": [
       "[2, 3, 3, 2, [[4, 7, 1], [3, 5, 9]], [[3, 2], [1, 5], [2, 4]]]"
      ]
     },
     "execution_count": 57,
     "metadata": {},
     "output_type": "execute_result"
    }
   ],
   "source": [
    "parse_case(temp)"
   ]
  }
 ],
 "metadata": {
  "kernelspec": {
   "display_name": "Python 3",
   "language": "python",
   "name": "python3"
  },
  "language_info": {
   "codemirror_mode": {
    "name": "ipython",
    "version": 3
   },
   "file_extension": ".py",
   "mimetype": "text/x-python",
   "name": "python",
   "nbconvert_exporter": "python",
   "pygments_lexer": "ipython3",
   "version": "3.6.0"
  }
 },
 "nbformat": 4,
 "nbformat_minor": 2
}
