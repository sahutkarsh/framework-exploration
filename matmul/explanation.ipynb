{
 "cells": [
  {
   "cell_type": "code",
   "execution_count": 1,
   "metadata": {
    "collapsed": true
   },
   "outputs": [],
   "source": [
    "input_file = open('input.txt','r')\n",
    "input_lines = input_file.readlines()\n",
    "input_file.close()"
   ]
  },
  {
   "cell_type": "code",
   "execution_count": 2,
   "metadata": {
    "collapsed": false
   },
   "outputs": [
    {
     "data": {
      "text/plain": [
       "['2\\n',\n",
       " '1 3\\n',\n",
       " '2 9 1\\n',\n",
       " '3 2\\n',\n",
       " '4 6\\n',\n",
       " '6 1\\n',\n",
       " '9 2\\n',\n",
       " '\\n',\n",
       " '2 3\\n',\n",
       " '5 1 3\\n',\n",
       " '9 2 1\\n',\n",
       " '3 4\\n',\n",
       " '3 6 1 5\\n',\n",
       " '5 1 0 9\\n',\n",
       " '1 0 2 4']"
      ]
     },
     "execution_count": 2,
     "metadata": {},
     "output_type": "execute_result"
    }
   ],
   "source": [
    "input_lines"
   ]
  },
  {
   "cell_type": "code",
   "execution_count": 3,
   "metadata": {
    "collapsed": true
   },
   "outputs": [],
   "source": [
    "lines = []\n",
    "for line in input_lines:\n",
    "    if (line!='\\n'):\n",
    "        line = line.strip()\n",
    "    lines.append(line)"
   ]
  },
  {
   "cell_type": "code",
   "execution_count": 4,
   "metadata": {
    "collapsed": false
   },
   "outputs": [
    {
     "data": {
      "text/plain": [
       "['2',\n",
       " '1 3',\n",
       " '2 9 1',\n",
       " '3 2',\n",
       " '4 6',\n",
       " '6 1',\n",
       " '9 2',\n",
       " '\\n',\n",
       " '2 3',\n",
       " '5 1 3',\n",
       " '9 2 1',\n",
       " '3 4',\n",
       " '3 6 1 5',\n",
       " '5 1 0 9',\n",
       " '1 0 2 4']"
      ]
     },
     "execution_count": 4,
     "metadata": {},
     "output_type": "execute_result"
    }
   ],
   "source": [
    "lines"
   ]
  },
  {
   "cell_type": "code",
   "execution_count": 5,
   "metadata": {
    "collapsed": true
   },
   "outputs": [],
   "source": [
    "num_cases = lines[0]\n",
    "del lines[0]\n",
    "lines.append('\\n')\n",
    "test_cases = []\n",
    "case = []"
   ]
  },
  {
   "cell_type": "code",
   "execution_count": 6,
   "metadata": {
    "collapsed": false
   },
   "outputs": [
    {
     "data": {
      "text/plain": [
       "['1 3',\n",
       " '2 9 1',\n",
       " '3 2',\n",
       " '4 6',\n",
       " '6 1',\n",
       " '9 2',\n",
       " '\\n',\n",
       " '2 3',\n",
       " '5 1 3',\n",
       " '9 2 1',\n",
       " '3 4',\n",
       " '3 6 1 5',\n",
       " '5 1 0 9',\n",
       " '1 0 2 4',\n",
       " '\\n']"
      ]
     },
     "execution_count": 6,
     "metadata": {},
     "output_type": "execute_result"
    }
   ],
   "source": [
    "lines"
   ]
  },
  {
   "cell_type": "code",
   "execution_count": 7,
   "metadata": {
    "collapsed": true
   },
   "outputs": [],
   "source": [
    "for line in lines:\n",
    "    if (line!='\\n'):\n",
    "        case.append(line)\n",
    "    if (line=='\\n'):\n",
    "        test_cases.append(case)\n",
    "        case = []"
   ]
  },
  {
   "cell_type": "code",
   "execution_count": 8,
   "metadata": {
    "collapsed": false
   },
   "outputs": [
    {
     "data": {
      "text/plain": [
       "[['1 3', '2 9 1', '3 2', '4 6', '6 1', '9 2'],\n",
       " ['2 3', '5 1 3', '9 2 1', '3 4', '3 6 1 5', '5 1 0 9', '1 0 2 4']]"
      ]
     },
     "execution_count": 8,
     "metadata": {},
     "output_type": "execute_result"
    }
   ],
   "source": [
    "test_cases"
   ]
  },
  {
   "cell_type": "code",
   "execution_count": 9,
   "metadata": {
    "collapsed": true
   },
   "outputs": [],
   "source": [
    "def parse_case(test_case):\n",
    "    m, n = test_case[0].split()\n",
    "    m = int(m)\n",
    "    n = int(n)\n",
    "    j, k = test_case[m+1].split()\n",
    "    j = int(j)\n",
    "    k = int(k)\n",
    "    a = []\n",
    "    b = []\n",
    "    for row_index in range(m):\n",
    "        row = list(map(int, test_case[row_index+1].split()))\n",
    "        a.insert(row_index, row)\n",
    "    for row_index in range(j):\n",
    "        row = list(map(int, test_case[row_index+m+2].split()))\n",
    "        b.insert(row_index, row)\n",
    "    return [m,n,j,k,a,b]"
   ]
  },
  {
   "cell_type": "code",
   "execution_count": 10,
   "metadata": {
    "collapsed": false
   },
   "outputs": [
    {
     "data": {
      "text/plain": [
       "[1, 3, 3, 2, [[2, 9, 1]], [[4, 6], [6, 1], [9, 2]]]"
      ]
     },
     "execution_count": 10,
     "metadata": {},
     "output_type": "execute_result"
    }
   ],
   "source": [
    "parse_case(test_cases[0])"
   ]
  },
  {
   "cell_type": "code",
   "execution_count": 11,
   "metadata": {
    "collapsed": false
   },
   "outputs": [
    {
     "data": {
      "text/plain": [
       "[2,\n",
       " 3,\n",
       " 3,\n",
       " 4,\n",
       " [[5, 1, 3], [9, 2, 1]],\n",
       " [[3, 6, 1, 5], [5, 1, 0, 9], [1, 0, 2, 4]]]"
      ]
     },
     "execution_count": 11,
     "metadata": {},
     "output_type": "execute_result"
    }
   ],
   "source": [
    "parse_case(test_cases[1])"
   ]
  },
  {
   "cell_type": "code",
   "execution_count": 12,
   "metadata": {
    "collapsed": true
   },
   "outputs": [],
   "source": [
    "def multiply_matrix(test_case):\n",
    "    m, n, j, k, a, b = parse_case(test_case)\n",
    "    if (n!=j):\n",
    "        return -1\n",
    "    product = []\n",
    "    for x in range(m):\n",
    "        product.append([])\n",
    "    for x in range(m):\n",
    "        for y in range(k):\n",
    "            element = 0\n",
    "            for z in range(n):\n",
    "                element += a[x][z] * b[z][y]\n",
    "            product[x].append(element)\n",
    "    return product"
   ]
  },
  {
   "cell_type": "code",
   "execution_count": 13,
   "metadata": {
    "collapsed": true
   },
   "outputs": [],
   "source": [
    "m, n, j, k, a, b = parse_case(test_cases[1])"
   ]
  },
  {
   "cell_type": "code",
   "execution_count": 14,
   "metadata": {
    "collapsed": false
   },
   "outputs": [
    {
     "data": {
      "text/plain": [
       "([[5, 1, 3], [9, 2, 1]], (2, 3))"
      ]
     },
     "execution_count": 14,
     "metadata": {},
     "output_type": "execute_result"
    }
   ],
   "source": [
    "a, (m,n)"
   ]
  },
  {
   "cell_type": "code",
   "execution_count": 15,
   "metadata": {
    "collapsed": false
   },
   "outputs": [
    {
     "data": {
      "text/plain": [
       "([[3, 6, 1, 5], [5, 1, 0, 9], [1, 0, 2, 4]], (3, 4))"
      ]
     },
     "execution_count": 15,
     "metadata": {},
     "output_type": "execute_result"
    }
   ],
   "source": [
    "b, (j,k)"
   ]
  },
  {
   "cell_type": "code",
   "execution_count": 16,
   "metadata": {
    "collapsed": false
   },
   "outputs": [
    {
     "data": {
      "text/plain": [
       "[[71, 23]]"
      ]
     },
     "execution_count": 16,
     "metadata": {},
     "output_type": "execute_result"
    }
   ],
   "source": [
    "multiply_matrix(test_cases[0])"
   ]
  },
  {
   "cell_type": "code",
   "execution_count": 17,
   "metadata": {
    "collapsed": false
   },
   "outputs": [
    {
     "data": {
      "text/plain": [
       "[[23, 31, 11, 46], [38, 56, 11, 67]]"
      ]
     },
     "execution_count": 17,
     "metadata": {},
     "output_type": "execute_result"
    }
   ],
   "source": [
    "multiply_matrix(test_cases[1])"
   ]
  },
  {
   "cell_type": "code",
   "execution_count": 18,
   "metadata": {
    "collapsed": true
   },
   "outputs": [],
   "source": [
    "products = []\n",
    "for test_case in test_cases:\n",
    "    product = multiply_matrix(test_case)\n",
    "    products.append(product)\n",
    "\n",
    "output_file = open('output.txt', 'w')"
   ]
  },
  {
   "cell_type": "code",
   "execution_count": 19,
   "metadata": {
    "collapsed": false
   },
   "outputs": [
    {
     "data": {
      "text/plain": [
       "[[[71, 23]], [[23, 31, 11, 46], [38, 56, 11, 67]]]"
      ]
     },
     "execution_count": 19,
     "metadata": {},
     "output_type": "execute_result"
    }
   ],
   "source": [
    "products"
   ]
  },
  {
   "cell_type": "code",
   "execution_count": 20,
   "metadata": {
    "collapsed": true
   },
   "outputs": [],
   "source": [
    "output = ''\n",
    "for product in products:\n",
    "    for row in product:\n",
    "        row_str = [str(item) for item in row]\n",
    "        row_str = ' '.join(row_str)\n",
    "        output += row_str+'\\n'\n",
    "    output += '\\n'"
   ]
  },
  {
   "cell_type": "code",
   "execution_count": 21,
   "metadata": {
    "collapsed": false
   },
   "outputs": [
    {
     "data": {
      "text/plain": [
       "'71 23\\n\\n23 31 11 46\\n38 56 11 67\\n\\n'"
      ]
     },
     "execution_count": 21,
     "metadata": {},
     "output_type": "execute_result"
    }
   ],
   "source": [
    "output"
   ]
  },
  {
   "cell_type": "code",
   "execution_count": 22,
   "metadata": {
    "collapsed": true
   },
   "outputs": [],
   "source": [
    "output = output.strip()\n",
    "output_file.write(output)\n",
    "output_file.close()"
   ]
  }
 ],
 "metadata": {
  "kernelspec": {
   "display_name": "Python 3",
   "language": "python",
   "name": "python3"
  },
  "language_info": {
   "codemirror_mode": {
    "name": "ipython",
    "version": 3
   },
   "file_extension": ".py",
   "mimetype": "text/x-python",
   "name": "python",
   "nbconvert_exporter": "python",
   "pygments_lexer": "ipython3",
   "version": "3.6.0"
  }
 },
 "nbformat": 4,
 "nbformat_minor": 2
}
