{
 "cells": [
  {
   "cell_type": "code",
   "execution_count": 1,
   "metadata": {
    "collapsed": true
   },
   "outputs": [],
   "source": [
    "input_file = open('input.txt','r')\n",
    "input_lines = input_file.readlines()\n",
    "input_file.close()"
   ]
  },
  {
   "cell_type": "code",
   "execution_count": 2,
   "metadata": {
    "collapsed": true
   },
   "outputs": [],
   "source": [
    "lines = []"
   ]
  },
  {
   "cell_type": "code",
   "execution_count": 3,
   "metadata": {
    "collapsed": false
   },
   "outputs": [],
   "source": [
    "for line in input_lines:\n",
    "    if (line!='\\n'):\n",
    "        line = line.strip()\n",
    "    lines.append(line)"
   ]
  },
  {
   "cell_type": "code",
   "execution_count": 4,
   "metadata": {
    "collapsed": true
   },
   "outputs": [],
   "source": [
    "num_cases = lines[0]\n",
    "del lines[0]\n",
    "lines.append('\\n')"
   ]
  },
  {
   "cell_type": "code",
   "execution_count": 5,
   "metadata": {
    "collapsed": true
   },
   "outputs": [],
   "source": [
    "test_cases = []\n",
    "case = []"
   ]
  },
  {
   "cell_type": "code",
   "execution_count": 6,
   "metadata": {
    "collapsed": false
   },
   "outputs": [],
   "source": [
    "for line in lines:\n",
    "    if (line!='\\n'):\n",
    "        case.append(line)\n",
    "    if (line=='\\n'):\n",
    "        test_cases.append(case)\n",
    "        case = []"
   ]
  },
  {
   "cell_type": "code",
   "execution_count": 7,
   "metadata": {
    "collapsed": false
   },
   "outputs": [
    {
     "data": {
      "text/plain": [
       "['1 3',\n",
       " '2 9 1',\n",
       " '3 2',\n",
       " '4 6',\n",
       " '6 1',\n",
       " '9 2',\n",
       " '\\n',\n",
       " '2 3',\n",
       " '5 1 3',\n",
       " '9 2 1',\n",
       " '3 4',\n",
       " '3 6 1 5',\n",
       " '5 1 0 9',\n",
       " '1 0 2 4',\n",
       " '\\n']"
      ]
     },
     "execution_count": 7,
     "metadata": {},
     "output_type": "execute_result"
    }
   ],
   "source": [
    "lines"
   ]
  },
  {
   "cell_type": "code",
   "execution_count": 8,
   "metadata": {
    "collapsed": false
   },
   "outputs": [],
   "source": [
    "def parse_case(test_case):\n",
    "    m, n = test_case[0].split()\n",
    "    m = int(m)\n",
    "    n = int(n)\n",
    "    j, k = test_case[m+1].split()\n",
    "    j = int(j)\n",
    "    k = int(k)\n",
    "    a = []\n",
    "    b = []\n",
    "    for row_index in range(m):\n",
    "        row = list(map(int, test_case[row_index+1].split()))\n",
    "        a.insert(row_index, row)\n",
    "    for row_index in range(j): \n",
    "        row = list(map(int, test_case[row_index+m+2].split()))\n",
    "        b.insert(row_index, row)\n",
    "    return [m,n,j,k,a,b]"
   ]
  },
  {
   "cell_type": "code",
   "execution_count": 9,
   "metadata": {
    "collapsed": true
   },
   "outputs": [],
   "source": [
    "test_case = test_cases[1]\n",
    "m,n,j,k,a,b = parse_case(test_case)"
   ]
  },
  {
   "cell_type": "code",
   "execution_count": 25,
   "metadata": {
    "collapsed": true
   },
   "outputs": [],
   "source": [
    "def multiply_matrix(test_case):\n",
    "    m, n, j, k, a, b = parse_case(test_case)\n",
    "    if (n!=j):\n",
    "        return -1\n",
    "    \n",
    "    product = []\n",
    "    zero_row = []\n",
    "    for x in range(k):\n",
    "        zero_row.append(0)\n",
    "    for x in range(m):\n",
    "        product.append(zero_row)\n",
    "    \n",
    "    pdt = []\n",
    "    for x in range(m):\n",
    "        pdt.append([])\n",
    "    for x in range(m):\n",
    "        for y in range(k):\n",
    "            element = 0\n",
    "            for z in range(n):\n",
    "                #print(product[1][0])\n",
    "                #print('Position:',(x,y))\n",
    "                #print('Product initial:',product[x][y])\n",
    "                element += a[x][z] * b[z][y]\n",
    "                #product[x][y] += (a[x][z] * b[z][y])\n",
    "                #print('A:',(x,z),'B:',(z,y), temp)\n",
    "                #print('Product final:',product[x][y])\n",
    "            product[x][y] = element\n",
    "            pdt[x].append(element)\n",
    "            print((x,y),'Element Done',element,'\\n')\n",
    "    \n",
    "    return pdt"
   ]
  },
  {
   "cell_type": "code",
   "execution_count": 26,
   "metadata": {
    "collapsed": false
   },
   "outputs": [
    {
     "name": "stdout",
     "output_type": "stream",
     "text": [
      "(0, 0) Element Done 23 \n",
      "\n",
      "(0, 1) Element Done 31 \n",
      "\n",
      "(0, 2) Element Done 11 \n",
      "\n",
      "(0, 3) Element Done 46 \n",
      "\n",
      "(1, 0) Element Done 38 \n",
      "\n",
      "(1, 1) Element Done 56 \n",
      "\n",
      "(1, 2) Element Done 11 \n",
      "\n",
      "(1, 3) Element Done 67 \n",
      "\n"
     ]
    },
    {
     "data": {
      "text/plain": [
       "[[23, 31, 11, 46], [38, 56, 11, 67]]"
      ]
     },
     "execution_count": 26,
     "metadata": {},
     "output_type": "execute_result"
    }
   ],
   "source": [
    "multiply_matrix(test_case)"
   ]
  },
  {
   "cell_type": "code",
   "execution_count": null,
   "metadata": {
    "collapsed": false
   },
   "outputs": [],
   "source": [
    "products = []\n",
    "for test_case in test_cases:\n",
    "    product = multiply_matrix(test_case)\n",
    "    products.append(product)"
   ]
  },
  {
   "cell_type": "code",
   "execution_count": null,
   "metadata": {
    "collapsed": false
   },
   "outputs": [],
   "source": [
    "products"
   ]
  },
  {
   "cell_type": "code",
   "execution_count": null,
   "metadata": {
    "collapsed": true
   },
   "outputs": [],
   "source": [
    "output_file = open('output.txt', 'w')"
   ]
  },
  {
   "cell_type": "markdown",
   "metadata": {},
   "source": [
    "for product in products:\n",
    "    for row in product:\n",
    "        row_str = [str(item) for item in row]\n",
    "        row_str = ' '.join(row_str)\n",
    "        output_file.write(row_str+'\\n')\n",
    "    output_file.write('\\n')"
   ]
  },
  {
   "cell_type": "code",
   "execution_count": null,
   "metadata": {
    "collapsed": true
   },
   "outputs": [],
   "source": [
    "output = ''"
   ]
  },
  {
   "cell_type": "code",
   "execution_count": null,
   "metadata": {
    "collapsed": false
   },
   "outputs": [],
   "source": [
    "for product in products:\n",
    "    for row in product:\n",
    "        row_str = [str(item) for item in row]\n",
    "        row_str = ' '.join(row_str)\n",
    "        output += row_str+'\\n'\n",
    "    output += '\\n'\n",
    "\n",
    "output = output.strip()\n",
    "output_file.write(output)"
   ]
  },
  {
   "cell_type": "code",
   "execution_count": null,
   "metadata": {
    "collapsed": true
   },
   "outputs": [],
   "source": [
    "output_file.close()"
   ]
  },
  {
   "cell_type": "code",
   "execution_count": null,
   "metadata": {
    "collapsed": true
   },
   "outputs": [],
   "source": []
  }
 ],
 "metadata": {
  "kernelspec": {
   "display_name": "Python 3",
   "language": "python",
   "name": "python3"
  },
  "language_info": {
   "codemirror_mode": {
    "name": "ipython",
    "version": 3
   },
   "file_extension": ".py",
   "mimetype": "text/x-python",
   "name": "python",
   "nbconvert_exporter": "python",
   "pygments_lexer": "ipython3",
   "version": "3.6.0"
  }
 },
 "nbformat": 4,
 "nbformat_minor": 2
}
