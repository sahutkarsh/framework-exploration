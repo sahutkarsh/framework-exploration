{
 "cells": [
  {
   "cell_type": "code",
   "execution_count": 1,
   "metadata": {
    "collapsed": true
   },
   "outputs": [],
   "source": [
    "import gym\n",
    "import numpy as np\n",
    "import random\n",
    "import time"
   ]
  },
  {
   "cell_type": "code",
   "execution_count": 2,
   "metadata": {
    "collapsed": true
   },
   "outputs": [],
   "source": [
    "from tqdm import tqdm_notebook as tqdm"
   ]
  },
  {
   "cell_type": "code",
   "execution_count": 3,
   "metadata": {
    "collapsed": true
   },
   "outputs": [],
   "source": [
    "env = gym.make('FrozenLake-v0')"
   ]
  },
  {
   "cell_type": "markdown",
   "metadata": {},
   "source": [
    "https://github.com/MR901/Reinforcement-Learninng/blob/2fa526c6d8b1b49a7e430ede85f1ba5d2830a755/bin/Dis_Dis_FrozenLake-Custom.ipynb"
   ]
  },
  {
   "cell_type": "code",
   "execution_count": 5,
   "metadata": {
    "collapsed": false
   },
   "outputs": [
    {
     "name": "stdout",
     "output_type": "stream",
     "text": [
      "\n",
      "\n",
      "*** Initial Q-table ***\n",
      "\n",
      "[[0. 0. 0. 0.]\n",
      " [0. 0. 0. 0.]\n",
      " [0. 0. 0. 0.]\n",
      " [0. 0. 0. 0.]\n",
      " [0. 0. 0. 0.]\n",
      " [0. 0. 0. 0.]\n",
      " [0. 0. 0. 0.]\n",
      " [0. 0. 0. 0.]\n",
      " [0. 0. 0. 0.]\n",
      " [0. 0. 0. 0.]\n",
      " [0. 0. 0. 0.]\n",
      " [0. 0. 0. 0.]\n",
      " [0. 0. 0. 0.]\n",
      " [0. 0. 0. 0.]\n",
      " [0. 0. 0. 0.]\n",
      " [0. 0. 0. 0.]]\n",
      "\n",
      "********Average reward per thousand episodes********\n",
      "\n",
      "1000 :  0.059000000000000045\n",
      "2000 :  0.19200000000000014\n",
      "3000 :  0.4000000000000003\n",
      "4000 :  0.5680000000000004\n",
      "5000 :  0.6220000000000004\n",
      "6000 :  0.6630000000000005\n",
      "7000 :  0.6960000000000005\n",
      "8000 :  0.7080000000000005\n",
      "9000 :  0.6650000000000005\n",
      "10000 :  0.6400000000000005\n",
      "\n",
      "\n",
      "********Q-table********\n",
      "\n",
      "[[0.54963982 0.4884794  0.48098438 0.49054504]\n",
      " [0.32615292 0.22521553 0.27790162 0.48957833]\n",
      " [0.37637315 0.36622792 0.3934112  0.45747242]\n",
      " [0.27383803 0.2770258  0.29984251 0.41719784]\n",
      " [0.56979876 0.3489775  0.26710695 0.30613877]\n",
      " [0.         0.         0.         0.        ]\n",
      " [0.29946924 0.14002676 0.13103977 0.09913199]\n",
      " [0.         0.         0.         0.        ]\n",
      " [0.29894172 0.41550951 0.36373945 0.59523372]\n",
      " [0.4123339  0.62459791 0.39242273 0.46082633]\n",
      " [0.56837936 0.29698826 0.31299071 0.41069426]\n",
      " [0.         0.         0.         0.        ]\n",
      " [0.         0.         0.         0.        ]\n",
      " [0.41080975 0.58822137 0.71102209 0.5702979 ]\n",
      " [0.71370274 0.88356643 0.78795818 0.74307612]\n",
      " [0.         0.         0.         0.        ]]\n"
     ]
    }
   ],
   "source": [
    "num_episodes = 10000\n",
    "max_steps_per_episode = 100\n",
    "\n",
    "learning_rate = 0.1\n",
    "discount_rate = 0.99\n",
    "\n",
    "exploration_rate = 1\n",
    "max_exploration_rate = 1\n",
    "min_exploration_rate = 0.01\n",
    "exploration_decay_rate = 0.001\n",
    "\n",
    "\n",
    "## Generating ann empty q_Table\n",
    "actionSpaceSize = env.action_space.n\n",
    "stateSpaceSize = env.observation_space.n\n",
    "q_table = np.zeros((stateSpaceSize, actionSpaceSize))\n",
    "\n",
    "# Print initial Q-table\n",
    "print(\"\\n\\n*** Initial Q-table ***\\n\")\n",
    "print(q_table)\n",
    "\n",
    "\n",
    "# Q-learning algorithm\n",
    "rewardsAllEpisodes_li = []\n",
    "for episode in tqdm(range(num_episodes)):\n",
    "    # initialize new episode params\n",
    "    state = env.reset()\n",
    "    done = False\n",
    "    rewardsCurrentEpisode = 0\n",
    "    for step in range(max_steps_per_episode): \n",
    "        # Exploration-exploitation trade-off\n",
    "        exploration_rate_threshold = random.uniform(0, 1)\n",
    "        if exploration_rate_threshold > exploration_rate:\n",
    "            action = np.argmax(q_table[state,:]) \n",
    "        else:\n",
    "            action = env.action_space.sample()\n",
    "        \n",
    "        # Take new action\n",
    "        new_state, reward, done, info = env.step(action)\n",
    "        \n",
    "        # Update Q-table for Q(s,a)\n",
    "        q_table[state, action] = q_table[state, action] * (1 - learning_rate) + \\\n",
    "            learning_rate * (reward + discount_rate * np.max(q_table[new_state, :]))\n",
    "        \n",
    "        # Set new state\n",
    "        state = new_state\n",
    "        \n",
    "        # Add new reward\n",
    "        rewardsCurrentEpisode += reward \n",
    "        \n",
    "        if done == True: \n",
    "            break\n",
    "        \n",
    "    # Exploration rate decay\n",
    "    exploration_rate = min_exploration_rate + \\\n",
    "        (max_exploration_rate - min_exploration_rate) * np.exp(-exploration_decay_rate*episode)\n",
    "    \n",
    "    # Add current episode reward to total rewards list\n",
    "    rewardsAllEpisodes_li.append(rewardsCurrentEpisode)\n",
    "\n",
    "\n",
    "# Calculate and print the average reward per thousand episodes\n",
    "rewards_per_thosand_episodes = np.split(np.array(rewardsAllEpisodes_li),num_episodes/1000)\n",
    "count = 1000\n",
    "\n",
    "\n",
    "print(\"********Average reward per thousand episodes********\\n\")\n",
    "for r in rewards_per_thosand_episodes:\n",
    "    print(count, \": \", str(sum(r/1000)))\n",
    "    count += 1000\n",
    "\n",
    "# Print updated Q-table\n",
    "print(\"\\n\\n********Q-table********\\n\")\n",
    "print(q_table)"
   ]
  },
  {
   "cell_type": "code",
   "execution_count": null,
   "metadata": {
    "collapsed": true
   },
   "outputs": [],
   "source": []
  }
 ],
 "metadata": {
  "kernelspec": {
   "display_name": "Python 3",
   "language": "python",
   "name": "python3"
  },
  "language_info": {
   "codemirror_mode": {
    "name": "ipython",
    "version": 3
   },
   "file_extension": ".py",
   "mimetype": "text/x-python",
   "name": "python",
   "nbconvert_exporter": "python",
   "pygments_lexer": "ipython3",
   "version": "3.6.1"
  },
  "widgets": {
   "state": {
    "00ccb51fb0264f4c8595960f5f88b54a": {
     "views": [
      {
       "cell_index": 3
      }
     ]
    }
   },
   "version": "1.2.0"
  }
 },
 "nbformat": 4,
 "nbformat_minor": 2
}
