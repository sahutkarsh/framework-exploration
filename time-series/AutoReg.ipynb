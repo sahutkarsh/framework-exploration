{
 "cells": [
  {
   "cell_type": "code",
   "execution_count": 1,
   "metadata": {
    "collapsed": true
   },
   "outputs": [],
   "source": [
    "import pandas as pd\n",
    "import numpy as np\n",
    "import matplotlib.pyplot as plt\n",
    "%matplotlib inline"
   ]
  },
  {
   "cell_type": "code",
   "execution_count": 2,
   "metadata": {
    "collapsed": true
   },
   "outputs": [],
   "source": [
    "from datetime import datetime"
   ]
  },
  {
   "cell_type": "code",
   "execution_count": 3,
   "metadata": {
    "collapsed": false
   },
   "outputs": [],
   "source": [
    "data = pd.read_excel('data.xlsx')"
   ]
  },
  {
   "cell_type": "code",
   "execution_count": 4,
   "metadata": {
    "collapsed": false
   },
   "outputs": [],
   "source": [
    "data['day'] = [t.day for t in data['Dateti']]\n",
    "data['hour'] = [t.hour for t in data['Dateti']]\n",
    "data['delta'] = [td.total_seconds() / 3600 for td in (data['Dateti'] - data['Dateti'][0])]"
   ]
  },
  {
   "cell_type": "code",
   "execution_count": 5,
   "metadata": {
    "collapsed": true
   },
   "outputs": [],
   "source": [
    "data.drop(data[data['hour'] == 7].index, inplace=True)\n",
    "data.reset_index(inplace=True, drop=True)"
   ]
  },
  {
   "cell_type": "markdown",
   "metadata": {},
   "source": [
    "# Visuals"
   ]
  },
  {
   "cell_type": "code",
   "execution_count": 6,
   "metadata": {
    "collapsed": true
   },
   "outputs": [],
   "source": [
    "def get_data(hour, lag):\n",
    "    people = data[data['hour'] == hour]['ActualGC']\n",
    "    x = list(people.values[:-lag])\n",
    "    y = list(people.values[lag:])\n",
    "    return [x,y]"
   ]
  },
  {
   "cell_type": "code",
   "execution_count": 7,
   "metadata": {
    "collapsed": false
   },
   "outputs": [
    {
     "name": "stdout",
     "output_type": "stream",
     "text": [
      "8 Correlation:  0.22093275123406178\n",
      "9 Correlation:  0.12561959324261365\n",
      "10 Correlation:  0.16584581484981512\n",
      "11 Correlation:  0.08951806350074\n",
      "12 Correlation:  0.17555261754251314\n",
      "13 Correlation:  0.18968117527315248\n",
      "14 Correlation:  0.11460660477409154\n",
      "15 Correlation:  -0.10857725555992849\n",
      "16 Correlation:  0.34200823343999726\n",
      "17 Correlation:  0.28030534427223874\n",
      "18 Correlation:  0.12583193923635153\n",
      "19 Correlation:  0.18191525927078253\n",
      "20 Correlation:  0.12399132365470558\n",
      "21 Correlation:  0.1694684552419365\n",
      "22 Correlation:  0.20119309582055808\n"
     ]
    }
   ],
   "source": [
    "x= []\n",
    "y= []\n",
    "lag = 1\n",
    "for hour in range(8,23):\n",
    "    x_hour, y_hour = get_data(hour, lag)\n",
    "    print(hour, 'Correlation: ', np.corrcoef(x_hour, y_hour)[0][1])\n",
    "    x = x + x_hour\n",
    "    y = y + y_hour"
   ]
  },
  {
   "cell_type": "code",
   "execution_count": 8,
   "metadata": {
    "collapsed": false
   },
   "outputs": [
    {
     "data": {
      "text/plain": [
       "[<matplotlib.lines.Line2D at 0x2b48d13710>]"
      ]
     },
     "execution_count": 8,
     "metadata": {},
     "output_type": "execute_result"
    },
    {
     "data": {
      "image/png": "[encoded data removed]",
      "text/plain": [
       "<matplotlib.figure.Figure at 0x2b48d13748>"
      ]
     },
     "metadata": {},
     "output_type": "display_data"
    }
   ],
   "source": [
    "plt.scatter(x,y, s=2)\n",
    "plt.plot([0,100], [0,100], c='green')"
   ]
  },
  {
   "cell_type": "markdown",
   "metadata": {},
   "source": [
    "# Data set"
   ]
  },
  {
   "cell_type": "code",
   "execution_count": 76,
   "metadata": {
    "collapsed": true
   },
   "outputs": [],
   "source": [
    "test_size = 0.2"
   ]
  },
  {
   "cell_type": "code",
   "execution_count": 77,
   "metadata": {
    "collapsed": true
   },
   "outputs": [],
   "source": [
    "def create_dataset(hour):\n",
    "    dataset = data[data['hour'] == hour]['ActualGC'].values\n",
    "    train_size = int((1 - test_size) * len(dataset))\n",
    "    train = dataset[:train_size]\n",
    "    test = dataset[train_size:]\n",
    "    return [train, test, train_size]"
   ]
  },
  {
   "cell_type": "markdown",
   "metadata": {},
   "source": [
    "# Auto-Regression"
   ]
  },
  {
   "cell_type": "code",
   "execution_count": 78,
   "metadata": {
    "collapsed": false
   },
   "outputs": [],
   "source": [
    "from sklearn.metrics import mean_squared_error\n",
    "from statsmodels.tsa.ar_model import AutoReg"
   ]
  },
  {
   "cell_type": "code",
   "execution_count": 153,
   "metadata": {
    "collapsed": false
   },
   "outputs": [
    {
     "data": {
      "text/plain": [
       "96.71690614490981"
      ]
     },
     "execution_count": 153,
     "metadata": {},
     "output_type": "execute_result"
    }
   ],
   "source": [
    "# Projected\n",
    "mean_squared_error(data['ProjGC'], data['ActualGC'])"
   ]
  },
  {
   "cell_type": "code",
   "execution_count": 161,
   "metadata": {
    "collapsed": false
   },
   "outputs": [
    {
     "name": "stdout",
     "output_type": "stream",
     "text": [
      "Hour: 8 Params:  [6.80910983 0.22586692 0.01419387]\n",
      "Hour: 9 Params:  [ 1.33467066e+01  1.16979904e-01 -4.38064001e-03]\n",
      "Hour: 10 Params:  [16.71592034  0.17185987 -0.08239842]\n",
      "Hour: 11 Params:  [20.59465802  0.10449105 -0.03104489]\n",
      "Hour: 12 Params:  [24.43036163  0.20705665 -0.07275117]\n",
      "Hour: 13 Params:  [3.10905505e+01 1.63702557e-01 1.95541816e-02]\n",
      "Hour: 14 Params:  [32.99987814  0.154853   -0.05109649]\n",
      "Hour: 15 Params:  [35.79975165 -0.10664811  0.08532231]\n",
      "Hour: 16 Params:  [21.34910551  0.29211763  0.08828501]\n",
      "Hour: 17 Params:  [29.53446057  0.31111533 -0.11220324]\n",
      "Hour: 18 Params:  [ 3.44178995e+01  1.19449639e-01 -5.85253794e-03]\n",
      "Hour: 19 Params:  [40.80043524  0.21643394 -0.15235748]\n",
      "Hour: 20 Params:  [49.02430614  0.16908524 -0.20802851]\n",
      "Hour: 21 Params:  [3.25506877e+01 1.85300187e-01 9.19830617e-03]\n",
      "Hour: 22 Params:  [25.43907231  0.26097629 -0.16688845]\n",
      "Hour: 23 Params:  [7.32524219 0.40362321 0.12476104]\n"
     ]
    }
   ],
   "source": [
    "lags = 2\n",
    "pred = []\n",
    "true = []\n",
    "pred_train = []\n",
    "true_train = []\n",
    "for hour in range(8, 24):\n",
    "    train, test, start = create_dataset(hour)\n",
    "    end = len(train) + len(test) - 1\n",
    "    model = AutoReg(train, lags).fit()\n",
    "    print('Hour:', hour, 'Params: ', model.params)\n",
    "    predictions = model.predict(start, end, dynamic=False)\n",
    "    predictions_train = model.predict()\n",
    "    pred += list(predictions)\n",
    "    true += list(test)\n",
    "    pred_train += list(predictions_train)\n",
    "    true_train += list(train[lags:])"
   ]
  },
  {
   "cell_type": "code",
   "execution_count": 162,
   "metadata": {
    "collapsed": false
   },
   "outputs": [
    {
     "data": {
      "text/plain": [
       "75.38734762471493"
      ]
     },
     "execution_count": 162,
     "metadata": {},
     "output_type": "execute_result"
    }
   ],
   "source": [
    "mean_squared_error(pred, true)"
   ]
  },
  {
   "cell_type": "code",
   "execution_count": 163,
   "metadata": {
    "collapsed": false
   },
   "outputs": [
    {
     "data": {
      "text/plain": [
       "80.0064328359149"
      ]
     },
     "execution_count": 163,
     "metadata": {},
     "output_type": "execute_result"
    }
   ],
   "source": [
    "mean_squared_error(pred_train, true_train)"
   ]
  }
 ],
 "metadata": {
  "kernelspec": {
   "display_name": "Python 3",
   "language": "python",
   "name": "python3"
  },
  "language_info": {
   "codemirror_mode": {
    "name": "ipython",
    "version": 3
   },
   "file_extension": ".py",
   "mimetype": "text/x-python",
   "name": "python",
   "nbconvert_exporter": "python",
   "pygments_lexer": "ipython3",
   "version": "3.6.1"
  }
 },
 "nbformat": 4,
 "nbformat_minor": 2
}
